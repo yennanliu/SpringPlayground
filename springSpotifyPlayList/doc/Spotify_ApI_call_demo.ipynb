{
  "nbformat": 4,
  "nbformat_minor": 0,
  "metadata": {
    "colab": {
      "provenance": []
    },
    "kernelspec": {
      "name": "python3",
      "display_name": "Python 3"
    },
    "language_info": {
      "name": "python"
    }
  },
  "cells": [
    {
      "cell_type": "markdown",
      "source": [
        "\n",
        "## Ref\n",
        "\n",
        "- https://developer.spotify.com/documentation/web-api/reference/get-recommendations - recommendations API\n",
        "- https://developer.spotify.com/documentation/web-api/reference/get-audio-features - get song feature\n",
        "- https://github.com/spotify-web-api-java/spotify-web-api-java - Java client\n",
        "- https://jitpack.io/p/lbengzon/spotify-web-api-java\n",
        "- https://github.com/yennanliu/nelson/blob/master/server.js#L88\n",
        "- https://nelson.glitch.me/#\n",
        "- https://github.com/hardikSinghBehl/spotifyApiSpring/tree/master - other project in java"
      ],
      "metadata": {
        "id": "PBc1k3Y9N__h"
      }
    },
    {
      "cell_type": "code",
      "source": [
        "#----------------------------------------\n",
        "# MAIN CODE\n",
        "#----------------------------------------"
      ],
      "metadata": {
        "id": "FwY33c45OBZF"
      },
      "execution_count": 6,
      "outputs": []
    },
    {
      "cell_type": "code",
      "source": [],
      "metadata": {
        "id": "JgVcRyLHOlBy"
      },
      "execution_count": null,
      "outputs": []
    },
    {
      "cell_type": "code",
      "source": [
        "import requests\n",
        "\n",
        "# Set your Spotify client ID and client secret\n",
        "client_id=\"\"\n",
        "client_secret=\"\"\n",
        "\n",
        "\n",
        "# Define the token request data\n",
        "token_data = {\n",
        "    \"grant_type\": \"client_credentials\"\n",
        "}\n",
        "\n",
        "# Set the token request URL\n",
        "token_url = \"https://accounts.spotify.com/api/token\"\n",
        "\n",
        "# Set the headers with your client ID and client secret\n",
        "headers = {\n",
        "    \"Content-Type\": \"application/x-www-form-urlencoded\"\n",
        "}\n",
        "\n",
        "# Send the POST request to get the token\n",
        "response = requests.post(token_url, data=token_data, headers=headers, auth=(client_id, client_secret))\n",
        "\n",
        "# Check if the request was successful\n",
        "if response.status_code == 200:\n",
        "    access_token = response.json().get('access_token')\n",
        "    print(f\"Access Token: {access_token}\")\n",
        "else:\n",
        "    print(f\"Error: {response.status_code} - {response.text}\")\n"
      ],
      "metadata": {
        "colab": {
          "base_uri": "https://localhost:8080/"
        },
        "id": "V3GLbY26OSL6",
        "outputId": "6a627a44-ec17-409b-c057-1d7b6f7c1bdc"
      },
      "execution_count": 4,
      "outputs": [
        {
          "output_type": "stream",
          "name": "stdout",
          "text": [
            "Access Token: BQDS3O2GV64ysOcs_Mn-s-Hg8WGkQi0_z7eErvHBHjBhhZuHU8SAur_vdi2Q4NIAXszdg_qZxND7bfKgrK_BMfbFM5dP0ZHfDPplbPsqAvc121MzJOw\n"
          ]
        }
      ]
    },
    {
      "cell_type": "code",
      "source": [
        "# Help func\n",
        "\n",
        "def api_call(url, token):\n",
        "    print(\"url = \" + str(url) + \"token = \" + str(token))\n",
        "    headers = {\n",
        "    \"Authorization\": f\"Bearer {access_token}\"\n",
        "    }\n",
        "    # Send the GET request to the Spotify API\n",
        "    response = requests.get(url, headers=headers)\n",
        "\n",
        "    # Check if the request was successful\n",
        "    if response.status_code == 200:\n",
        "        data = response.json()\n",
        "        # Process the data as needed\n",
        "        #print(data)\n",
        "        return data\n",
        "    else:\n",
        "        print(f\"Error: {response.status_code} - {response.text}\")"
      ],
      "metadata": {
        "id": "AXQ6agzlPc1x"
      },
      "execution_count": 13,
      "outputs": []
    },
    {
      "cell_type": "code",
      "source": [],
      "metadata": {
        "id": "TOKqAnwzT6ya"
      },
      "execution_count": null,
      "outputs": []
    },
    {
      "cell_type": "code",
      "source": [
        "# 1) Get albums detail\n",
        "\n",
        "url_1 = \"https://api.spotify.com/v1/albums/4aawyAB9vmqN3uQ7FjRGTy\"\n",
        "\n",
        "res_1 = api_call(url_1, access_token)\n",
        "print(res_1.keys())"
      ],
      "metadata": {
        "colab": {
          "base_uri": "https://localhost:8080/"
        },
        "id": "rQUzFuQ9PdW5",
        "outputId": "581a66a2-bc1d-4137-e53e-f9d6f8577fa2"
      },
      "execution_count": 46,
      "outputs": [
        {
          "output_type": "stream",
          "name": "stdout",
          "text": [
            "url = https://api.spotify.com/v1/albums/4aawyAB9vmqN3uQ7FjRGTytoken = BQDS3O2GV64ysOcs_Mn-s-Hg8WGkQi0_z7eErvHBHjBhhZuHU8SAur_vdi2Q4NIAXszdg_qZxND7bfKgrK_BMfbFM5dP0ZHfDPplbPsqAvc121MzJOw\n",
            "dict_keys(['album_type', 'artists', 'available_markets', 'copyrights', 'external_ids', 'external_urls', 'genres', 'href', 'id', 'images', 'label', 'name', 'popularity', 'release_date', 'release_date_precision', 'total_tracks', 'tracks', 'type', 'uri'])\n"
          ]
        }
      ]
    },
    {
      "cell_type": "code",
      "source": [],
      "metadata": {
        "id": "RQDy25UrZvOs"
      },
      "execution_count": null,
      "outputs": []
    },
    {
      "cell_type": "code",
      "source": [
        "# 2) Get song detail\n",
        "\n",
        "url_2 = \"https://api.spotify.com/v1/audio-features/11dFghVXANMlKmJXsNCbNl\"\n",
        "\n",
        "res_2 = api_call(url_2, access_token)"
      ],
      "metadata": {
        "colab": {
          "base_uri": "https://localhost:8080/"
        },
        "id": "Hw1s_oCjPn7R",
        "outputId": "8f8facf8-c801-4614-b810-144a809f6679"
      },
      "execution_count": 35,
      "outputs": [
        {
          "output_type": "stream",
          "name": "stdout",
          "text": [
            "url = https://api.spotify.com/v1/audio-features/11dFghVXANMlKmJXsNCbNltoken = BQDS3O2GV64ysOcs_Mn-s-Hg8WGkQi0_z7eErvHBHjBhhZuHU8SAur_vdi2Q4NIAXszdg_qZxND7bfKgrK_BMfbFM5dP0ZHfDPplbPsqAvc121MzJOw\n"
          ]
        }
      ]
    },
    {
      "cell_type": "code",
      "source": [
        "print(res_2.keys())"
      ],
      "metadata": {
        "colab": {
          "base_uri": "https://localhost:8080/"
        },
        "id": "B6xK8KPmWKWJ",
        "outputId": "ca87892f-4999-440b-b907-a4961826d479"
      },
      "execution_count": 51,
      "outputs": [
        {
          "output_type": "stream",
          "name": "stdout",
          "text": [
            "dict_keys(['danceability', 'energy', 'key', 'loudness', 'mode', 'speechiness', 'acousticness', 'instrumentalness', 'liveness', 'valence', 'tempo', 'type', 'id', 'uri', 'track_href', 'analysis_url', 'duration_ms', 'time_signature'])\n"
          ]
        }
      ]
    },
    {
      "cell_type": "code",
      "source": [],
      "metadata": {
        "id": "tIG_0Vd0a-YP"
      },
      "execution_count": null,
      "outputs": []
    },
    {
      "cell_type": "code",
      "source": [
        "# 3) Call recommendation API\n",
        "\n",
        "url_3 = \"https://api.spotify.com/v1/recommendations?seed_artists=4NHQUGzhtTLFvgF5SZesLK&seed_genres=classical%2Ccountry&seed_tracks=0c6xIDDpzE81m2q797ordA\"\n",
        "\n",
        "res_3 = api_call(url_3, access_token)\n",
        "\n",
        "print(res_3.keys())"
      ],
      "metadata": {
        "colab": {
          "base_uri": "https://localhost:8080/"
        },
        "id": "aNqy54RQQGU4",
        "outputId": "242c8a38-e94a-45af-e071-8707bab7d364"
      },
      "execution_count": 52,
      "outputs": [
        {
          "output_type": "stream",
          "name": "stdout",
          "text": [
            "url = https://api.spotify.com/v1/recommendations?seed_artists=4NHQUGzhtTLFvgF5SZesLK&seed_genres=classical%2Ccountry&seed_tracks=0c6xIDDpzE81m2q797ordAtoken = BQDS3O2GV64ysOcs_Mn-s-Hg8WGkQi0_z7eErvHBHjBhhZuHU8SAur_vdi2Q4NIAXszdg_qZxND7bfKgrK_BMfbFM5dP0ZHfDPplbPsqAvc121MzJOw\n",
            "dict_keys(['tracks', 'seeds'])\n"
          ]
        }
      ]
    },
    {
      "cell_type": "code",
      "source": [],
      "metadata": {
        "id": "phyzEKokbBu8"
      },
      "execution_count": null,
      "outputs": []
    },
    {
      "cell_type": "code",
      "source": [],
      "metadata": {
        "id": "kK5QCuGrZ0nR"
      },
      "execution_count": null,
      "outputs": []
    },
    {
      "cell_type": "code",
      "source": [
        "# 4) Get songs from one of my playlists:\n",
        "# TODO :\n",
        "# 1) get song id from playlist\n",
        "# 2) fetch song feature\n",
        "\n",
        "url_4 = \"https://api.spotify.com/v1/playlists/3EMYUexboFY1ShvAckNyAx?si=cf9194c40bd846e6\"\n",
        "res_4 = api_call(url_4, access_token)"
      ],
      "metadata": {
        "colab": {
          "base_uri": "https://localhost:8080/"
        },
        "id": "AzoXTBDZQsqG",
        "outputId": "564e1bdd-f7d2-4ce0-a35f-2ad4ba5838bc"
      },
      "execution_count": 14,
      "outputs": [
        {
          "output_type": "stream",
          "name": "stdout",
          "text": [
            "url = https://api.spotify.com/v1/playlists/3EMYUexboFY1ShvAckNyAx?si=cf9194c40bd846e6token = BQDS3O2GV64ysOcs_Mn-s-Hg8WGkQi0_z7eErvHBHjBhhZuHU8SAur_vdi2Q4NIAXszdg_qZxND7bfKgrK_BMfbFM5dP0ZHfDPplbPsqAvc121MzJOw\n"
          ]
        }
      ]
    },
    {
      "cell_type": "code",
      "source": [
        "res_4.keys()"
      ],
      "metadata": {
        "colab": {
          "base_uri": "https://localhost:8080/"
        },
        "id": "po-sn6HdT_ts",
        "outputId": "31d6ee0c-ced2-4418-dee8-e69b24a9bd06"
      },
      "execution_count": 16,
      "outputs": [
        {
          "output_type": "execute_result",
          "data": {
            "text/plain": [
              "dict_keys(['collaborative', 'description', 'external_urls', 'followers', 'href', 'id', 'images', 'name', 'owner', 'primary_color', 'public', 'snapshot_id', 'tracks', 'type', 'uri'])"
            ]
          },
          "metadata": {},
          "execution_count": 16
        }
      ]
    },
    {
      "cell_type": "code",
      "source": [
        "for item in res_4[\"tracks\"][\"items\"]:\n",
        "  print (item[\"track\"][\"album\"][\"external_urls\"][\"spotify\"])"
      ],
      "metadata": {
        "colab": {
          "base_uri": "https://localhost:8080/"
        },
        "id": "smvSGktOU_Qy",
        "outputId": "e40e0a2f-145e-4601-d2e4-27b0d00c93ff"
      },
      "execution_count": 27,
      "outputs": [
        {
          "output_type": "stream",
          "name": "stdout",
          "text": [
            "https://open.spotify.com/album/1AtPpQ0av1ugXZ1QhjMQkK\n",
            "https://open.spotify.com/album/3Ekah2mVUZIojooFSaIskA\n",
            "https://open.spotify.com/album/3uwnm9XzBRExM28JllO23M\n",
            "https://open.spotify.com/album/3O93FYTqYYaT096AzvZHBm\n",
            "https://open.spotify.com/album/5TCUUYm1YSdBEIUX8fdZhj\n",
            "https://open.spotify.com/album/6UnoV72YbVs3govx24gDds\n",
            "https://open.spotify.com/album/4U7dNrhS6ITV4wb7A464nK\n",
            "https://open.spotify.com/album/6t8mEVN8w8ZtAB94tLrG96\n"
          ]
        }
      ]
    },
    {
      "cell_type": "code",
      "source": [
        "# 5) Get songs features from one of my playlists:"
      ],
      "metadata": {
        "id": "79PNCZ6CVZeb"
      },
      "execution_count": 41,
      "outputs": []
    },
    {
      "cell_type": "code",
      "source": [
        "# TODO"
      ],
      "metadata": {
        "id": "lGMYLPVmXqAZ"
      },
      "execution_count": 40,
      "outputs": []
    },
    {
      "cell_type": "code",
      "source": [
        "# 6) Get recommendation based on song feature:\n"
      ],
      "metadata": {
        "id": "uGeFmMUBXhuf"
      },
      "execution_count": 39,
      "outputs": []
    },
    {
      "cell_type": "code",
      "source": [
        "feature= {'danceability': 0.696, 'energy': 0.905, 'key': 2, 'loudness': -2.743, 'mode': 1, 'speechiness': 0.103, 'acousticness': 0.011, 'instrumentalness': 0.000905, 'liveness': 0.302, 'valence': 0.625, 'tempo': 114.944, 'type': 'audio_features', 'id': '11dFghVXANMlKmJXsNCbNl', 'uri': 'spotify:track:11dFghVXANMlKmJXsNCbNl', 'track_href': 'https://api.spotify.com/v1/tracks/11dFghVXANMlKmJXsNCbNl', 'analysis_url': 'https://api.spotify.com/v1/audio-analysis/11dFghVXANMlKmJXsNCbNl', 'duration_ms': 207960, 'time_signature': 4}\n"
      ],
      "metadata": {
        "id": "NhARNPK5VSaI"
      },
      "execution_count": 37,
      "outputs": []
    },
    {
      "cell_type": "code",
      "source": [
        "feature"
      ],
      "metadata": {
        "colab": {
          "base_uri": "https://localhost:8080/"
        },
        "id": "jL750_0_XXiK",
        "outputId": "8749b32a-91bd-4c20-c6bc-33414ede9aba"
      },
      "execution_count": 38,
      "outputs": [
        {
          "output_type": "execute_result",
          "data": {
            "text/plain": [
              "{'danceability': 0.696,\n",
              " 'energy': 0.905,\n",
              " 'key': 2,\n",
              " 'loudness': -2.743,\n",
              " 'mode': 1,\n",
              " 'speechiness': 0.103,\n",
              " 'acousticness': 0.011,\n",
              " 'instrumentalness': 0.000905,\n",
              " 'liveness': 0.302,\n",
              " 'valence': 0.625,\n",
              " 'tempo': 114.944,\n",
              " 'type': 'audio_features',\n",
              " 'id': '11dFghVXANMlKmJXsNCbNl',\n",
              " 'uri': 'spotify:track:11dFghVXANMlKmJXsNCbNl',\n",
              " 'track_href': 'https://api.spotify.com/v1/tracks/11dFghVXANMlKmJXsNCbNl',\n",
              " 'analysis_url': 'https://api.spotify.com/v1/audio-analysis/11dFghVXANMlKmJXsNCbNl',\n",
              " 'duration_ms': 207960,\n",
              " 'time_signature': 4}"
            ]
          },
          "metadata": {},
          "execution_count": 38
        }
      ]
    },
    {
      "cell_type": "code",
      "source": [
        "BASE_REC_URL = \"https://api.spotify.com/v1/recommendations?\"\n",
        "\n",
        "url_rec_1 = \"https://api.spotify.com/v1/recommendations?seed_artists=4NHQUGzhtTLFvgF5SZesLK&seed_genres=classical%2Ccountry&seed_tracks=0c6xIDDpzE81m2q797ordA&target_liveness=0.302&target_tempo=114.944&target_valence=0.62\"\n",
        "res_rec_1 = api_call(url_rec_1, access_token)"
      ],
      "metadata": {
        "colab": {
          "base_uri": "https://localhost:8080/"
        },
        "id": "GL-QoSKfXYc_",
        "outputId": "ba973deb-b9bd-4903-9a95-47bb45a81264"
      },
      "execution_count": 53,
      "outputs": [
        {
          "output_type": "stream",
          "name": "stdout",
          "text": [
            "url = https://api.spotify.com/v1/recommendations?seed_artists=4NHQUGzhtTLFvgF5SZesLK&seed_genres=classical%2Ccountry&seed_tracks=0c6xIDDpzE81m2q797ordA&target_liveness=0.302&target_tempo=114.944&target_valence=0.62token = BQDS3O2GV64ysOcs_Mn-s-Hg8WGkQi0_z7eErvHBHjBhhZuHU8SAur_vdi2Q4NIAXszdg_qZxND7bfKgrK_BMfbFM5dP0ZHfDPplbPsqAvc121MzJOw\n"
          ]
        }
      ]
    },
    {
      "cell_type": "code",
      "source": [
        "# Recommendation result\n",
        "\n",
        "print(res_rec_1)"
      ],
      "metadata": {
        "colab": {
          "base_uri": "https://localhost:8080/"
        },
        "id": "RjsIEqPsZM_2",
        "outputId": "9920ec1e-3072-4b8c-f7e4-9674d8498b66"
      },
      "execution_count": 55,
      "outputs": [
        {
          "output_type": "stream",
          "name": "stdout",
          "text": [
            "{'tracks': [{'album': {'album_type': 'ALBUM', 'artists': [{'external_urls': {'spotify': 'https://open.spotify.com/artist/5JdT0LYJdlPbTC58p60WTX'}, 'href': 'https://api.spotify.com/v1/artists/5JdT0LYJdlPbTC58p60WTX', 'id': '5JdT0LYJdlPbTC58p60WTX', 'name': 'Hilary Hahn', 'type': 'artist', 'uri': 'spotify:artist:5JdT0LYJdlPbTC58p60WTX'}], 'available_markets': ['AR', 'AU', 'AT', 'BE', 'BO', 'BR', 'BG', 'CA', 'CL', 'CO', 'CR', 'CY', 'CZ', 'DK', 'DO', 'DE', 'EC', 'EE', 'SV', 'FI', 'FR', 'GR', 'GT', 'HN', 'HK', 'HU', 'IS', 'IE', 'IT', 'LV', 'LT', 'LU', 'MY', 'MT', 'MX', 'NL', 'NI', 'NO', 'PA', 'PY', 'PE', 'PH', 'PL', 'PT', 'SG', 'SK', 'ES', 'SE', 'CH', 'TW', 'TR', 'UY', 'US', 'GB', 'AD', 'LI', 'MC', 'ID', 'JP', 'TH', 'VN', 'RO', 'IL', 'ZA', 'SA', 'AE', 'BH', 'QA', 'OM', 'KW', 'EG', 'MA', 'DZ', 'TN', 'LB', 'JO', 'PS', 'IN', 'BY', 'KZ', 'MD', 'UA', 'AL', 'BA', 'HR', 'ME', 'MK', 'RS', 'SI', 'KR', 'BD', 'PK', 'LK', 'GH', 'KE', 'NG', 'TZ', 'UG', 'AG', 'AM', 'BS', 'BB', 'BZ', 'BT', 'BW', 'BF', 'CV', 'CW', 'DM', 'GM', 'GE', 'GD', 'GW', 'GY', 'HT', 'JM', 'KI', 'LS', 'LR', 'MW', 'MV', 'ML', 'MH', 'FM', 'NA', 'NR', 'NE', 'PW', 'PG', 'SM', 'ST', 'SN', 'SC', 'SL', 'SB', 'KN', 'LC', 'VC', 'SR', 'TL', 'TO', 'TT', 'TV', 'VU', 'AZ', 'BN', 'BI', 'KH', 'CM', 'TD', 'KM', 'GQ', 'SZ', 'GA', 'GN', 'KG', 'LA', 'MO', 'MR', 'MN', 'NP', 'RW', 'TG', 'UZ', 'ZW', 'BJ', 'MG', 'MU', 'MZ', 'AO', 'CI', 'DJ', 'ZM', 'CD', 'CG', 'IQ', 'LY', 'TJ', 'VE', 'ET', 'XK'], 'external_urls': {'spotify': 'https://open.spotify.com/album/3HdqPF8q38JMFsY9docxFT'}, 'href': 'https://api.spotify.com/v1/albums/3HdqPF8q38JMFsY9docxFT', 'id': '3HdqPF8q38JMFsY9docxFT', 'images': [{'height': 640, 'url': 'https://i.scdn.co/image/ab67616d0000b2739cfab16a06d4e13c33eef0ca', 'width': 640}, {'height': 300, 'url': 'https://i.scdn.co/image/ab67616d00001e029cfab16a06d4e13c33eef0ca', 'width': 300}, {'height': 64, 'url': 'https://i.scdn.co/image/ab67616d000048519cfab16a06d4e13c33eef0ca', 'width': 64}], 'name': 'Brahms & Stravinsky: Violin Concertos', 'release_date': '2001', 'release_date_precision': 'year', 'total_tracks': 7, 'type': 'album', 'uri': 'spotify:album:3HdqPF8q38JMFsY9docxFT'}, 'artists': [{'external_urls': {'spotify': 'https://open.spotify.com/artist/7ie36YytMoKtPiL7tUvmoE'}, 'href': 'https://api.spotify.com/v1/artists/7ie36YytMoKtPiL7tUvmoE', 'id': '7ie36YytMoKtPiL7tUvmoE', 'name': 'Igor Stravinsky', 'type': 'artist', 'uri': 'spotify:artist:7ie36YytMoKtPiL7tUvmoE'}, {'external_urls': {'spotify': 'https://open.spotify.com/artist/6NUhQz7eAEsZvjEHTKHux9'}, 'href': 'https://api.spotify.com/v1/artists/6NUhQz7eAEsZvjEHTKHux9', 'id': '6NUhQz7eAEsZvjEHTKHux9', 'name': 'Sir Neville Marriner', 'type': 'artist', 'uri': 'spotify:artist:6NUhQz7eAEsZvjEHTKHux9'}, {'external_urls': {'spotify': 'https://open.spotify.com/artist/77CaCn32H4mOMQA7UElzfF'}, 'href': 'https://api.spotify.com/v1/artists/77CaCn32H4mOMQA7UElzfF', 'id': '77CaCn32H4mOMQA7UElzfF', 'name': 'Academy of St. Martin in the Fields', 'type': 'artist', 'uri': 'spotify:artist:77CaCn32H4mOMQA7UElzfF'}, {'external_urls': {'spotify': 'https://open.spotify.com/artist/5JdT0LYJdlPbTC58p60WTX'}, 'href': 'https://api.spotify.com/v1/artists/5JdT0LYJdlPbTC58p60WTX', 'id': '5JdT0LYJdlPbTC58p60WTX', 'name': 'Hilary Hahn', 'type': 'artist', 'uri': 'spotify:artist:5JdT0LYJdlPbTC58p60WTX'}], 'available_markets': ['AR', 'AU', 'AT', 'BE', 'BO', 'BR', 'BG', 'CA', 'CL', 'CO', 'CR', 'CY', 'CZ', 'DK', 'DO', 'DE', 'EC', 'EE', 'SV', 'FI', 'FR', 'GR', 'GT', 'HN', 'HK', 'HU', 'IS', 'IE', 'IT', 'LV', 'LT', 'LU', 'MY', 'MT', 'MX', 'NL', 'NI', 'NO', 'PA', 'PY', 'PE', 'PH', 'PL', 'PT', 'SG', 'SK', 'ES', 'SE', 'CH', 'TW', 'TR', 'UY', 'US', 'GB', 'AD', 'LI', 'MC', 'ID', 'JP', 'TH', 'VN', 'RO', 'IL', 'ZA', 'SA', 'AE', 'BH', 'QA', 'OM', 'KW', 'EG', 'MA', 'DZ', 'TN', 'LB', 'JO', 'PS', 'IN', 'BY', 'KZ', 'MD', 'UA', 'AL', 'BA', 'HR', 'ME', 'MK', 'RS', 'SI', 'KR', 'BD', 'PK', 'LK', 'GH', 'KE', 'NG', 'TZ', 'UG', 'AG', 'AM', 'BS', 'BB', 'BZ', 'BT', 'BW', 'BF', 'CV', 'CW', 'DM', 'GM', 'GE', 'GD', 'GW', 'GY', 'HT', 'JM', 'KI', 'LS', 'LR', 'MW', 'MV', 'ML', 'MH', 'FM', 'NA', 'NR', 'NE', 'PW', 'PG', 'SM', 'ST', 'SN', 'SC', 'SL', 'SB', 'KN', 'LC', 'VC', 'SR', 'TL', 'TO', 'TT', 'TV', 'VU', 'AZ', 'BN', 'BI', 'KH', 'CM', 'TD', 'KM', 'GQ', 'SZ', 'GA', 'GN', 'KG', 'LA', 'MO', 'MR', 'MN', 'NP', 'RW', 'TG', 'UZ', 'ZW', 'BJ', 'MG', 'MU', 'MZ', 'AO', 'CI', 'DJ', 'ZM', 'CD', 'CG', 'IQ', 'LY', 'TJ', 'VE', 'ET', 'XK'], 'disc_number': 1, 'duration_ms': 291400, 'explicit': False, 'external_ids': {'isrc': 'USSM10111246'}, 'external_urls': {'spotify': 'https://open.spotify.com/track/7JhTcgo91ELuSZb31yTtH6'}, 'href': 'https://api.spotify.com/v1/tracks/7JhTcgo91ELuSZb31yTtH6', 'id': '7JhTcgo91ELuSZb31yTtH6', 'is_local': False, 'name': 'Violin Concerto in D Major: I. Toccata', 'popularity': 19, 'preview_url': 'https://p.scdn.co/mp3-preview/1b43c5375523c3e333900b71920496d5567a5f04?cid=833e496a818d4dac926a00970ba4d725', 'track_number': 4, 'type': 'track', 'uri': 'spotify:track:7JhTcgo91ELuSZb31yTtH6'}, {'album': {'album_type': 'ALBUM', 'artists': [{'external_urls': {'spotify': 'https://open.spotify.com/artist/1HBjj22wzbscIZ9sEb5dyf'}, 'href': 'https://api.spotify.com/v1/artists/1HBjj22wzbscIZ9sEb5dyf', 'id': '1HBjj22wzbscIZ9sEb5dyf', 'name': 'Jonas Blue', 'type': 'artist', 'uri': 'spotify:artist:1HBjj22wzbscIZ9sEb5dyf'}], 'available_markets': ['AR', 'AU', 'AT', 'BE', 'BO', 'BR', 'BG', 'CA', 'CL', 'CO', 'CR', 'CY', 'CZ', 'DK', 'DO', 'DE', 'EC', 'EE', 'SV', 'FI', 'FR', 'GR', 'GT', 'HN', 'HK', 'HU', 'IS', 'IE', 'IT', 'LV', 'LT', 'LU', 'MY', 'MT', 'MX', 'NL', 'NZ', 'NI', 'NO', 'PA', 'PY', 'PE', 'PH', 'PL', 'PT', 'SG', 'SK', 'ES', 'SE', 'CH', 'TW', 'TR', 'UY', 'US', 'GB', 'AD', 'LI', 'MC', 'ID', 'JP', 'TH', 'VN', 'RO', 'IL', 'ZA', 'SA', 'AE', 'BH', 'QA', 'OM', 'KW', 'EG', 'MA', 'DZ', 'TN', 'LB', 'JO', 'PS', 'IN', 'BY', 'KZ', 'MD', 'UA', 'AL', 'BA', 'HR', 'ME', 'MK', 'RS', 'SI', 'KR', 'BD', 'PK', 'LK', 'GH', 'KE', 'NG', 'TZ', 'UG', 'AG', 'AM', 'BS', 'BB', 'BZ', 'BT', 'BW', 'BF', 'CV', 'CW', 'DM', 'FJ', 'GM', 'GE', 'GD', 'GW', 'GY', 'HT', 'JM', 'KI', 'LS', 'LR', 'MW', 'MV', 'ML', 'MH', 'FM', 'NA', 'NR', 'NE', 'PW', 'PG', 'WS', 'SM', 'ST', 'SN', 'SC', 'SL', 'SB', 'KN', 'LC', 'VC', 'SR', 'TL', 'TO', 'TT', 'TV', 'VU', 'AZ', 'BN', 'BI', 'KH', 'CM', 'TD', 'KM', 'GQ', 'SZ', 'GA', 'GN', 'KG', 'LA', 'MO', 'MR', 'MN', 'NP', 'RW', 'TG', 'UZ', 'ZW', 'BJ', 'MG', 'MU', 'MZ', 'AO', 'CI', 'DJ', 'ZM', 'CD', 'CG', 'IQ', 'LY', 'TJ', 'VE', 'ET', 'XK'], 'external_urls': {'spotify': 'https://open.spotify.com/album/2xZSrcBmvMw9Y8hac6xU7L'}, 'href': 'https://api.spotify.com/v1/albums/2xZSrcBmvMw9Y8hac6xU7L', 'id': '2xZSrcBmvMw9Y8hac6xU7L', 'images': [{'height': 640, 'url': 'https://i.scdn.co/image/ab67616d0000b2735b6bcc59c3562a6f362344c6', 'width': 640}, {'height': 300, 'url': 'https://i.scdn.co/image/ab67616d00001e025b6bcc59c3562a6f362344c6', 'width': 300}, {'height': 64, 'url': 'https://i.scdn.co/image/ab67616d000048515b6bcc59c3562a6f362344c6', 'width': 64}], 'name': 'Blue', 'release_date': '2018-11-09', 'release_date_precision': 'day', 'total_tracks': 15, 'type': 'album', 'uri': 'spotify:album:2xZSrcBmvMw9Y8hac6xU7L'}, 'artists': [{'external_urls': {'spotify': 'https://open.spotify.com/artist/1HBjj22wzbscIZ9sEb5dyf'}, 'href': 'https://api.spotify.com/v1/artists/1HBjj22wzbscIZ9sEb5dyf', 'id': '1HBjj22wzbscIZ9sEb5dyf', 'name': 'Jonas Blue', 'type': 'artist', 'uri': 'spotify:artist:1HBjj22wzbscIZ9sEb5dyf'}, {'external_urls': {'spotify': 'https://open.spotify.com/artist/2zzpznMuhKlKlqh1ma7Sms'}, 'href': 'https://api.spotify.com/v1/artists/2zzpznMuhKlKlqh1ma7Sms', 'id': '2zzpznMuhKlKlqh1ma7Sms', 'name': 'Dakota', 'type': 'artist', 'uri': 'spotify:artist:2zzpznMuhKlKlqh1ma7Sms'}], 'available_markets': ['AR', 'AU', 'AT', 'BE', 'BO', 'BR', 'BG', 'CA', 'CL', 'CO', 'CR', 'CY', 'CZ', 'DK', 'DO', 'DE', 'EC', 'EE', 'SV', 'FI', 'FR', 'GR', 'GT', 'HN', 'HK', 'HU', 'IS', 'IE', 'IT', 'LV', 'LT', 'LU', 'MY', 'MT', 'MX', 'NL', 'NZ', 'NI', 'NO', 'PA', 'PY', 'PE', 'PH', 'PL', 'PT', 'SG', 'SK', 'ES', 'SE', 'CH', 'TW', 'TR', 'UY', 'US', 'GB', 'AD', 'LI', 'MC', 'ID', 'JP', 'TH', 'VN', 'RO', 'IL', 'ZA', 'SA', 'AE', 'BH', 'QA', 'OM', 'KW', 'EG', 'MA', 'DZ', 'TN', 'LB', 'JO', 'PS', 'IN', 'BY', 'KZ', 'MD', 'UA', 'AL', 'BA', 'HR', 'ME', 'MK', 'RS', 'SI', 'KR', 'BD', 'PK', 'LK', 'GH', 'KE', 'NG', 'TZ', 'UG', 'AG', 'AM', 'BS', 'BB', 'BZ', 'BT', 'BW', 'BF', 'CV', 'CW', 'DM', 'FJ', 'GM', 'GE', 'GD', 'GW', 'GY', 'HT', 'JM', 'KI', 'LS', 'LR', 'MW', 'MV', 'ML', 'MH', 'FM', 'NA', 'NR', 'NE', 'PW', 'PG', 'WS', 'SM', 'ST', 'SN', 'SC', 'SL', 'SB', 'KN', 'LC', 'VC', 'SR', 'TL', 'TO', 'TT', 'TV', 'VU', 'AZ', 'BN', 'BI', 'KH', 'CM', 'TD', 'KM', 'GQ', 'SZ', 'GA', 'GN', 'KG', 'LA', 'MO', 'MR', 'MN', 'NP', 'RW', 'TG', 'UZ', 'ZW', 'BJ', 'MG', 'MU', 'MZ', 'AO', 'CI', 'DJ', 'ZM', 'CD', 'CG', 'IQ', 'LY', 'TJ', 'VE', 'ET', 'XK'], 'disc_number': 1, 'duration_ms': 212424, 'explicit': False, 'external_ids': {'isrc': 'GBUM71507621'}, 'external_urls': {'spotify': 'https://open.spotify.com/track/1SN1vSPsr4V4tIUTR3s8YW'}, 'href': 'https://api.spotify.com/v1/tracks/1SN1vSPsr4V4tIUTR3s8YW', 'id': '1SN1vSPsr4V4tIUTR3s8YW', 'is_local': False, 'name': 'Fast Car', 'popularity': 78, 'preview_url': None, 'track_number': 5, 'type': 'track', 'uri': 'spotify:track:1SN1vSPsr4V4tIUTR3s8YW'}, {'album': {'album_type': 'ALBUM', 'artists': [{'external_urls': {'spotify': 'https://open.spotify.com/artist/6nwh8AhPpbwOUnHZJWrHT6'}, 'href': 'https://api.spotify.com/v1/artists/6nwh8AhPpbwOUnHZJWrHT6', 'id': '6nwh8AhPpbwOUnHZJWrHT6', 'name': 'David Allan Coe', 'type': 'artist', 'uri': 'spotify:artist:6nwh8AhPpbwOUnHZJWrHT6'}], 'available_markets': [], 'external_urls': {'spotify': 'https://open.spotify.com/album/7hPuZ84MnT48evWA8W8M2o'}, 'href': 'https://api.spotify.com/v1/albums/7hPuZ84MnT48evWA8W8M2o', 'id': '7hPuZ84MnT48evWA8W8M2o', 'images': [{'height': 640, 'url': 'https://i.scdn.co/image/ab67616d0000b2733f02d497364dc3832d3349e2', 'width': 640}, {'height': 300, 'url': 'https://i.scdn.co/image/ab67616d00001e023f02d497364dc3832d3349e2', 'width': 300}, {'height': 64, 'url': 'https://i.scdn.co/image/ab67616d000048513f02d497364dc3832d3349e2', 'width': 64}], 'name': 'The Essential David Allan Coe', 'release_date': '1974', 'release_date_precision': 'year', 'total_tracks': 14, 'type': 'album', 'uri': 'spotify:album:7hPuZ84MnT48evWA8W8M2o'}, 'artists': [{'external_urls': {'spotify': 'https://open.spotify.com/artist/6nwh8AhPpbwOUnHZJWrHT6'}, 'href': 'https://api.spotify.com/v1/artists/6nwh8AhPpbwOUnHZJWrHT6', 'id': '6nwh8AhPpbwOUnHZJWrHT6', 'name': 'David Allan Coe', 'type': 'artist', 'uri': 'spotify:artist:6nwh8AhPpbwOUnHZJWrHT6'}], 'available_markets': [], 'disc_number': 1, 'duration_ms': 192560, 'explicit': False, 'external_ids': {'isrc': 'USSM19903778'}, 'external_urls': {'spotify': 'https://open.spotify.com/track/3fGAtNsZfBCnFthW8XnhlU'}, 'href': 'https://api.spotify.com/v1/tracks/3fGAtNsZfBCnFthW8XnhlU', 'id': '3fGAtNsZfBCnFthW8XnhlU', 'is_local': False, 'name': 'Willie, Waylon and Me', 'popularity': 0, 'preview_url': None, 'track_number': 4, 'type': 'track', 'uri': 'spotify:track:3fGAtNsZfBCnFthW8XnhlU'}, {'album': {'album_type': 'ALBUM', 'artists': [{'external_urls': {'spotify': 'https://open.spotify.com/artist/2xe8IXgCTpwHE3eA9hTs4n'}, 'href': 'https://api.spotify.com/v1/artists/2xe8IXgCTpwHE3eA9hTs4n', 'id': '2xe8IXgCTpwHE3eA9hTs4n', 'name': 'BANKS', 'type': 'artist', 'uri': 'spotify:artist:2xe8IXgCTpwHE3eA9hTs4n'}], 'available_markets': ['AR', 'AU', 'AT', 'BE', 'BO', 'BR', 'BG', 'CA', 'CL', 'CO', 'CR', 'CY', 'CZ', 'DK', 'DO', 'DE', 'EC', 'EE', 'SV', 'FI', 'FR', 'GR', 'GT', 'HN', 'HK', 'HU', 'IS', 'IE', 'IT', 'LV', 'LT', 'LU', 'MY', 'MT', 'MX', 'NL', 'NZ', 'NI', 'NO', 'PA', 'PY', 'PE', 'PH', 'PL', 'PT', 'SG', 'SK', 'ES', 'SE', 'CH', 'TW', 'TR', 'UY', 'US', 'GB', 'AD', 'LI', 'MC', 'ID', 'JP', 'TH', 'VN', 'RO', 'IL', 'ZA', 'SA', 'AE', 'BH', 'QA', 'OM', 'KW', 'EG', 'MA', 'DZ', 'TN', 'LB', 'JO', 'PS', 'IN', 'BY', 'KZ', 'MD', 'UA', 'AL', 'BA', 'HR', 'ME', 'MK', 'RS', 'SI', 'KR', 'BD', 'PK', 'LK', 'GH', 'KE', 'NG', 'TZ', 'UG', 'AG', 'AM', 'BS', 'BB', 'BZ', 'BT', 'BW', 'CV', 'CW', 'DM', 'FJ', 'GM', 'GE', 'GD', 'GW', 'GY', 'HT', 'JM', 'KI', 'LS', 'LR', 'MW', 'MV', 'ML', 'MH', 'FM', 'NA', 'NR', 'NE', 'PW', 'PG', 'WS', 'SM', 'ST', 'SN', 'SC', 'SL', 'SB', 'KN', 'LC', 'VC', 'SR', 'TL', 'TO', 'TT', 'TV', 'VU', 'AZ', 'BI', 'KH', 'CM', 'TD', 'KM', 'GQ', 'SZ', 'GA', 'GN', 'KG', 'LA', 'MO', 'MR', 'MN', 'NP', 'RW', 'TG', 'UZ', 'ZW', 'BJ', 'MG', 'MU', 'MZ', 'AO', 'CI', 'DJ', 'ZM', 'CD', 'CG', 'IQ', 'LY', 'TJ', 'VE', 'ET', 'XK'], 'external_urls': {'spotify': 'https://open.spotify.com/album/0oXzdlZ9duItTwmJLXbAfo'}, 'href': 'https://api.spotify.com/v1/albums/0oXzdlZ9duItTwmJLXbAfo', 'id': '0oXzdlZ9duItTwmJLXbAfo', 'images': [{'height': 640, 'url': 'https://i.scdn.co/image/ab67616d0000b2733ddc7c6b5ba2978d161e30af', 'width': 640}, {'height': 300, 'url': 'https://i.scdn.co/image/ab67616d00001e023ddc7c6b5ba2978d161e30af', 'width': 300}, {'height': 64, 'url': 'https://i.scdn.co/image/ab67616d000048513ddc7c6b5ba2978d161e30af', 'width': 64}], 'name': 'III', 'release_date': '2019-07-12', 'release_date_precision': 'day', 'total_tracks': 13, 'type': 'album', 'uri': 'spotify:album:0oXzdlZ9duItTwmJLXbAfo'}, 'artists': [{'external_urls': {'spotify': 'https://open.spotify.com/artist/2xe8IXgCTpwHE3eA9hTs4n'}, 'href': 'https://api.spotify.com/v1/artists/2xe8IXgCTpwHE3eA9hTs4n', 'id': '2xe8IXgCTpwHE3eA9hTs4n', 'name': 'BANKS', 'type': 'artist', 'uri': 'spotify:artist:2xe8IXgCTpwHE3eA9hTs4n'}], 'available_markets': ['AR', 'AU', 'AT', 'BE', 'BO', 'BR', 'BG', 'CA', 'CL', 'CO', 'CR', 'CY', 'CZ', 'DK', 'DO', 'DE', 'EC', 'EE', 'SV', 'FI', 'FR', 'GR', 'GT', 'HN', 'HK', 'HU', 'IS', 'IE', 'IT', 'LV', 'LT', 'LU', 'MY', 'MT', 'MX', 'NL', 'NZ', 'NI', 'NO', 'PA', 'PY', 'PE', 'PH', 'PL', 'PT', 'SG', 'SK', 'ES', 'SE', 'CH', 'TW', 'TR', 'UY', 'US', 'GB', 'AD', 'LI', 'MC', 'ID', 'JP', 'TH', 'VN', 'RO', 'IL', 'ZA', 'SA', 'AE', 'BH', 'QA', 'OM', 'KW', 'EG', 'MA', 'DZ', 'TN', 'LB', 'JO', 'PS', 'IN', 'BY', 'KZ', 'MD', 'UA', 'AL', 'BA', 'HR', 'ME', 'MK', 'RS', 'SI', 'KR', 'BD', 'PK', 'LK', 'GH', 'KE', 'NG', 'TZ', 'UG', 'AG', 'AM', 'BS', 'BB', 'BZ', 'BT', 'BW', 'CV', 'CW', 'DM', 'FJ', 'GM', 'GE', 'GD', 'GW', 'GY', 'HT', 'JM', 'KI', 'LS', 'LR', 'MW', 'MV', 'ML', 'MH', 'FM', 'NA', 'NR', 'NE', 'PW', 'PG', 'WS', 'SM', 'ST', 'SN', 'SC', 'SL', 'SB', 'KN', 'LC', 'VC', 'SR', 'TL', 'TO', 'TT', 'TV', 'VU', 'AZ', 'BI', 'KH', 'CM', 'TD', 'KM', 'GQ', 'SZ', 'GA', 'GN', 'KG', 'LA', 'MO', 'MR', 'MN', 'NP', 'RW', 'TG', 'UZ', 'ZW', 'BJ', 'MG', 'MU', 'MZ', 'AO', 'CI', 'DJ', 'ZM', 'CD', 'CG', 'IQ', 'LY', 'TJ', 'VE', 'ET', 'XK'], 'disc_number': 1, 'duration_ms': 219493, 'explicit': True, 'external_ids': {'isrc': 'USUM71904862'}, 'external_urls': {'spotify': 'https://open.spotify.com/track/2J4T0IOIZjQhLzosKPR2PN'}, 'href': 'https://api.spotify.com/v1/tracks/2J4T0IOIZjQhLzosKPR2PN', 'id': '2J4T0IOIZjQhLzosKPR2PN', 'is_local': False, 'name': 'Gimme', 'popularity': 50, 'preview_url': None, 'track_number': 2, 'type': 'track', 'uri': 'spotify:track:2J4T0IOIZjQhLzosKPR2PN'}, {'album': {'album_type': 'ALBUM', 'artists': [{'external_urls': {'spotify': 'https://open.spotify.com/artist/7DnLQaXsqcYkgm0nyDrB3r'}, 'href': 'https://api.spotify.com/v1/artists/7DnLQaXsqcYkgm0nyDrB3r', 'id': '7DnLQaXsqcYkgm0nyDrB3r', 'name': 'Terry Riley', 'type': 'artist', 'uri': 'spotify:artist:7DnLQaXsqcYkgm0nyDrB3r'}, {'external_urls': {'spotify': 'https://open.spotify.com/artist/0M6xcJTswOl2qvExCJhiS3'}, 'href': 'https://api.spotify.com/v1/artists/0M6xcJTswOl2qvExCJhiS3', 'id': '0M6xcJTswOl2qvExCJhiS3', 'name': 'Kronos Quartet', 'type': 'artist', 'uri': 'spotify:artist:0M6xcJTswOl2qvExCJhiS3'}], 'available_markets': ['AR', 'AU', 'AT', 'BE', 'BO', 'BR', 'BG', 'CA', 'CL', 'CO', 'CR', 'CY', 'CZ', 'DK', 'DO', 'DE', 'EC', 'EE', 'SV', 'FI', 'FR', 'GR', 'GT', 'HN', 'HK', 'HU', 'IS', 'IE', 'IT', 'LV', 'LT', 'LU', 'MY', 'MT', 'MX', 'NL', 'NZ', 'NI', 'NO', 'PA', 'PY', 'PE', 'PH', 'PL', 'PT', 'SG', 'SK', 'ES', 'SE', 'CH', 'TW', 'TR', 'UY', 'US', 'GB', 'AD', 'LI', 'MC', 'ID', 'JP', 'TH', 'VN', 'RO', 'IL', 'ZA', 'SA', 'AE', 'BH', 'QA', 'OM', 'KW', 'EG', 'MA', 'DZ', 'TN', 'LB', 'JO', 'PS', 'IN', 'BY', 'KZ', 'MD', 'UA', 'AL', 'BA', 'HR', 'ME', 'MK', 'RS', 'SI', 'KR', 'BD', 'PK', 'LK', 'GH', 'KE', 'NG', 'TZ', 'UG', 'AG', 'AM', 'BS', 'BB', 'BZ', 'BW', 'BF', 'CV', 'CW', 'DM', 'FJ', 'GM', 'GD', 'GW', 'HT', 'JM', 'LS', 'LR', 'MW', 'ML', 'FM', 'NA', 'NE', 'PG', 'SM', 'ST', 'SN', 'SC', 'SL', 'KN', 'LC', 'VC', 'TL', 'TT', 'AZ', 'BN', 'BI', 'KH', 'CM', 'TD', 'KM', 'GQ', 'SZ', 'GA', 'GN', 'KG', 'LA', 'MO', 'MR', 'MN', 'NP', 'RW', 'TG', 'UZ', 'ZW', 'BJ', 'MG', 'MU', 'MZ', 'AO', 'CI', 'DJ', 'ZM', 'CD', 'CG', 'IQ', 'LY', 'TJ', 'VE', 'ET', 'XK'], 'external_urls': {'spotify': 'https://open.spotify.com/album/2UxxjlRWyWovbWCZCOCpyu'}, 'href': 'https://api.spotify.com/v1/albums/2UxxjlRWyWovbWCZCOCpyu', 'id': '2UxxjlRWyWovbWCZCOCpyu', 'images': [{'height': 640, 'url': 'https://i.scdn.co/image/ab67616d0000b273c1ac9e32659159c42e7eb861', 'width': 640}, {'height': 300, 'url': 'https://i.scdn.co/image/ab67616d00001e02c1ac9e32659159c42e7eb861', 'width': 300}, {'height': 64, 'url': 'https://i.scdn.co/image/ab67616d00004851c1ac9e32659159c42e7eb861', 'width': 64}], 'name': 'Sunrise of the Planetary Dream Collector', 'release_date': '2015-06-16', 'release_date_precision': 'day', 'total_tracks': 16, 'type': 'album', 'uri': 'spotify:album:2UxxjlRWyWovbWCZCOCpyu'}, 'artists': [{'external_urls': {'spotify': 'https://open.spotify.com/artist/7DnLQaXsqcYkgm0nyDrB3r'}, 'href': 'https://api.spotify.com/v1/artists/7DnLQaXsqcYkgm0nyDrB3r', 'id': '7DnLQaXsqcYkgm0nyDrB3r', 'name': 'Terry Riley', 'type': 'artist', 'uri': 'spotify:artist:7DnLQaXsqcYkgm0nyDrB3r'}, {'external_urls': {'spotify': 'https://open.spotify.com/artist/0M6xcJTswOl2qvExCJhiS3'}, 'href': 'https://api.spotify.com/v1/artists/0M6xcJTswOl2qvExCJhiS3', 'id': '0M6xcJTswOl2qvExCJhiS3', 'name': 'Kronos Quartet', 'type': 'artist', 'uri': 'spotify:artist:0M6xcJTswOl2qvExCJhiS3'}], 'available_markets': ['AR', 'AU', 'AT', 'BE', 'BO', 'BR', 'BG', 'CA', 'CL', 'CO', 'CR', 'CY', 'CZ', 'DK', 'DO', 'DE', 'EC', 'EE', 'SV', 'FI', 'FR', 'GR', 'GT', 'HN', 'HK', 'HU', 'IS', 'IE', 'IT', 'LV', 'LT', 'LU', 'MY', 'MT', 'MX', 'NL', 'NZ', 'NI', 'NO', 'PA', 'PY', 'PE', 'PH', 'PL', 'PT', 'SG', 'SK', 'ES', 'SE', 'CH', 'TW', 'TR', 'UY', 'US', 'GB', 'AD', 'LI', 'MC', 'ID', 'JP', 'TH', 'VN', 'RO', 'IL', 'ZA', 'SA', 'AE', 'BH', 'QA', 'OM', 'KW', 'EG', 'MA', 'DZ', 'TN', 'LB', 'JO', 'PS', 'IN', 'BY', 'KZ', 'MD', 'UA', 'AL', 'BA', 'HR', 'ME', 'MK', 'RS', 'SI', 'KR', 'BD', 'PK', 'LK', 'GH', 'KE', 'NG', 'TZ', 'UG', 'AG', 'AM', 'BS', 'BB', 'BZ', 'BW', 'BF', 'CV', 'CW', 'DM', 'FJ', 'GM', 'GD', 'GW', 'HT', 'JM', 'LS', 'LR', 'MW', 'ML', 'FM', 'NA', 'NE', 'PG', 'SM', 'ST', 'SN', 'SC', 'SL', 'KN', 'LC', 'VC', 'TL', 'TT', 'AZ', 'BN', 'BI', 'KH', 'CM', 'TD', 'KM', 'GQ', 'SZ', 'GA', 'GN', 'KG', 'LA', 'MO', 'MR', 'MN', 'NP', 'RW', 'TG', 'UZ', 'ZW', 'BJ', 'MG', 'MU', 'MZ', 'AO', 'CI', 'DJ', 'ZM', 'CD', 'CG', 'IQ', 'LY', 'TJ', 'VE', 'ET', 'XK'], 'disc_number': 1, 'duration_ms': 579293, 'explicit': False, 'external_ids': {'isrc': 'USNO11500183'}, 'external_urls': {'spotify': 'https://open.spotify.com/track/6A0PC9wNdn0xvBIKnzVkRh'}, 'href': 'https://api.spotify.com/v1/tracks/6A0PC9wNdn0xvBIKnzVkRh', 'id': '6A0PC9wNdn0xvBIKnzVkRh', 'is_local': False, 'name': 'G Song', 'popularity': 25, 'preview_url': 'https://p.scdn.co/mp3-preview/38e9dae2490a1681af93660468bd1b442792f96b?cid=833e496a818d4dac926a00970ba4d725', 'track_number': 4, 'type': 'track', 'uri': 'spotify:track:6A0PC9wNdn0xvBIKnzVkRh'}, {'album': {'album_type': 'ALBUM', 'artists': [{'external_urls': {'spotify': 'https://open.spotify.com/artist/2sxmKe3CUrWnx7eoXMhOlW'}, 'href': 'https://api.spotify.com/v1/artists/2sxmKe3CUrWnx7eoXMhOlW', 'id': '2sxmKe3CUrWnx7eoXMhOlW', 'name': 'Dwight Yoakam', 'type': 'artist', 'uri': 'spotify:artist:2sxmKe3CUrWnx7eoXMhOlW'}], 'available_markets': ['AR', 'AU', 'AT', 'BE', 'BO', 'BR', 'BG', 'CA', 'CL', 'CO', 'CR', 'CY', 'CZ', 'DK', 'DO', 'DE', 'EC', 'EE', 'SV', 'FI', 'FR', 'GR', 'GT', 'HN', 'HK', 'HU', 'IS', 'IE', 'IT', 'LV', 'LT', 'LU', 'MY', 'MT', 'MX', 'NL', 'NZ', 'NI', 'NO', 'PA', 'PY', 'PE', 'PH', 'PL', 'PT', 'SG', 'SK', 'ES', 'SE', 'CH', 'TW', 'TR', 'UY', 'US', 'GB', 'AD', 'LI', 'MC', 'ID', 'JP', 'TH', 'VN', 'RO', 'IL', 'ZA', 'SA', 'AE', 'BH', 'QA', 'OM', 'KW', 'EG', 'MA', 'DZ', 'TN', 'LB', 'JO', 'PS', 'IN', 'BY', 'KZ', 'MD', 'UA', 'AL', 'BA', 'HR', 'ME', 'MK', 'RS', 'SI', 'KR', 'BD', 'PK', 'LK', 'GH', 'KE', 'NG', 'TZ', 'UG', 'AG', 'AM', 'BS', 'BB', 'BZ', 'BT', 'BW', 'BF', 'CV', 'CW', 'DM', 'FJ', 'GM', 'GE', 'GD', 'GW', 'GY', 'HT', 'JM', 'KI', 'LS', 'LR', 'MW', 'MV', 'ML', 'MH', 'FM', 'NA', 'NR', 'NE', 'PW', 'PG', 'WS', 'SM', 'ST', 'SN', 'SC', 'SL', 'SB', 'KN', 'LC', 'VC', 'SR', 'TL', 'TO', 'TT', 'TV', 'VU', 'AZ', 'BN', 'BI', 'KH', 'CM', 'TD', 'KM', 'GQ', 'SZ', 'GA', 'GN', 'KG', 'LA', 'MO', 'MR', 'MN', 'NP', 'RW', 'TG', 'UZ', 'ZW', 'BJ', 'MG', 'MU', 'MZ', 'AO', 'CI', 'DJ', 'ZM', 'CD', 'CG', 'IQ', 'LY', 'TJ', 'VE', 'ET', 'XK'], 'external_urls': {'spotify': 'https://open.spotify.com/album/1LjKIkzKmvRTfURcwcTr50'}, 'href': 'https://api.spotify.com/v1/albums/1LjKIkzKmvRTfURcwcTr50', 'id': '1LjKIkzKmvRTfURcwcTr50', 'images': [{'height': 640, 'url': 'https://i.scdn.co/image/ab67616d0000b273b485934b56cc5085fee247bd', 'width': 640}, {'height': 300, 'url': 'https://i.scdn.co/image/ab67616d00001e02b485934b56cc5085fee247bd', 'width': 300}, {'height': 64, 'url': 'https://i.scdn.co/image/ab67616d00004851b485934b56cc5085fee247bd', 'width': 64}], 'name': 'This Time', 'release_date': '1993-03-12', 'release_date_precision': 'day', 'total_tracks': 11, 'type': 'album', 'uri': 'spotify:album:1LjKIkzKmvRTfURcwcTr50'}, 'artists': [{'external_urls': {'spotify': 'https://open.spotify.com/artist/2sxmKe3CUrWnx7eoXMhOlW'}, 'href': 'https://api.spotify.com/v1/artists/2sxmKe3CUrWnx7eoXMhOlW', 'id': '2sxmKe3CUrWnx7eoXMhOlW', 'name': 'Dwight Yoakam', 'type': 'artist', 'uri': 'spotify:artist:2sxmKe3CUrWnx7eoXMhOlW'}], 'available_markets': ['AR', 'AU', 'AT', 'BE', 'BO', 'BR', 'BG', 'CA', 'CL', 'CO', 'CR', 'CY', 'CZ', 'DK', 'DO', 'DE', 'EC', 'EE', 'SV', 'FI', 'FR', 'GR', 'GT', 'HN', 'HK', 'HU', 'IS', 'IE', 'IT', 'LV', 'LT', 'LU', 'MY', 'MT', 'MX', 'NL', 'NZ', 'NI', 'NO', 'PA', 'PY', 'PE', 'PH', 'PL', 'PT', 'SG', 'SK', 'ES', 'SE', 'CH', 'TW', 'TR', 'UY', 'US', 'GB', 'AD', 'LI', 'MC', 'ID', 'JP', 'TH', 'VN', 'RO', 'IL', 'ZA', 'SA', 'AE', 'BH', 'QA', 'OM', 'KW', 'EG', 'MA', 'DZ', 'TN', 'LB', 'JO', 'PS', 'IN', 'BY', 'KZ', 'MD', 'UA', 'AL', 'BA', 'HR', 'ME', 'MK', 'RS', 'SI', 'KR', 'BD', 'PK', 'LK', 'GH', 'KE', 'NG', 'TZ', 'UG', 'AG', 'AM', 'BS', 'BB', 'BZ', 'BT', 'BW', 'BF', 'CV', 'CW', 'DM', 'FJ', 'GM', 'GE', 'GD', 'GW', 'GY', 'HT', 'JM', 'KI', 'LS', 'LR', 'MW', 'MV', 'ML', 'MH', 'FM', 'NA', 'NR', 'NE', 'PW', 'PG', 'WS', 'SM', 'ST', 'SN', 'SC', 'SL', 'SB', 'KN', 'LC', 'VC', 'SR', 'TL', 'TO', 'TT', 'TV', 'VU', 'AZ', 'BN', 'BI', 'KH', 'CM', 'TD', 'KM', 'GQ', 'SZ', 'GA', 'GN', 'KG', 'LA', 'MO', 'MR', 'MN', 'NP', 'RW', 'TG', 'UZ', 'ZW', 'BJ', 'MG', 'MU', 'MZ', 'AO', 'CI', 'DJ', 'ZM', 'CD', 'CG', 'IQ', 'LY', 'TJ', 'VE', 'ET', 'XK'], 'disc_number': 1, 'duration_ms': 268386, 'explicit': False, 'external_ids': {'isrc': 'USRE19900324'}, 'external_urls': {'spotify': 'https://open.spotify.com/track/2rjeRpzY5eKn2zZMwAfuod'}, 'href': 'https://api.spotify.com/v1/tracks/2rjeRpzY5eKn2zZMwAfuod', 'id': '2rjeRpzY5eKn2zZMwAfuod', 'is_local': False, 'name': 'A Thousand Miles from Nowhere', 'popularity': 60, 'preview_url': 'https://p.scdn.co/mp3-preview/91f809cc00664afcb1d511f2543760e1c438b8c6?cid=833e496a818d4dac926a00970ba4d725', 'track_number': 2, 'type': 'track', 'uri': 'spotify:track:2rjeRpzY5eKn2zZMwAfuod'}, {'album': {'album_type': 'ALBUM', 'artists': [{'external_urls': {'spotify': 'https://open.spotify.com/artist/5Y5TRrQiqgUO4S36tzjIRZ'}, 'href': 'https://api.spotify.com/v1/artists/5Y5TRrQiqgUO4S36tzjIRZ', 'id': '5Y5TRrQiqgUO4S36tzjIRZ', 'name': 'Timbaland', 'type': 'artist', 'uri': 'spotify:artist:5Y5TRrQiqgUO4S36tzjIRZ'}], 'available_markets': ['AD', 'AE', 'AR', 'AT', 'AU', 'BA', 'BD', 'BE', 'BG', 'BH', 'BO', 'BR', 'BY', 'CA', 'CH', 'CI', 'CL', 'CM', 'CO', 'CR', 'CW', 'CY', 'CZ', 'DE', 'DK', 'DO', 'DZ', 'EC', 'EE', 'EG', 'ES', 'FI', 'FJ', 'FR', 'GB', 'GN', 'GR', 'GT', 'HK', 'HN', 'HR', 'HU', 'ID', 'IE', 'IL', 'IN', 'IQ', 'IS', 'IT', 'JO', 'KH', 'KR', 'KW', 'KZ', 'LA', 'LB', 'LI', 'LK', 'LT', 'LU', 'LV', 'LY', 'MA', 'MC', 'ME', 'MK', 'MT', 'MU', 'MX', 'MY', 'NG', 'NI', 'NL', 'NO', 'NZ', 'OM', 'PA', 'PE', 'PH', 'PL', 'PT', 'PY', 'QA', 'RO', 'RS', 'RW', 'SA', 'SG', 'SI', 'SK', 'SN', 'SV', 'TH', 'TJ', 'TN', 'TR', 'TW', 'TZ', 'UA', 'US', 'VE', 'VN', 'XK', 'ZA'], 'external_urls': {'spotify': 'https://open.spotify.com/album/4BxB8U8QgpR4UCvJ0moj8Z'}, 'href': 'https://api.spotify.com/v1/albums/4BxB8U8QgpR4UCvJ0moj8Z', 'id': '4BxB8U8QgpR4UCvJ0moj8Z', 'images': [{'height': 640, 'url': 'https://i.scdn.co/image/ab67616d0000b2734ed674ab91bdc566534f9285', 'width': 640}, {'height': 300, 'url': 'https://i.scdn.co/image/ab67616d00001e024ed674ab91bdc566534f9285', 'width': 300}, {'height': 64, 'url': 'https://i.scdn.co/image/ab67616d000048514ed674ab91bdc566534f9285', 'width': 64}], 'name': 'Shock Value', 'release_date': '2007-01-01', 'release_date_precision': 'day', 'total_tracks': 17, 'type': 'album', 'uri': 'spotify:album:4BxB8U8QgpR4UCvJ0moj8Z'}, 'artists': [{'external_urls': {'spotify': 'https://open.spotify.com/artist/5Y5TRrQiqgUO4S36tzjIRZ'}, 'href': 'https://api.spotify.com/v1/artists/5Y5TRrQiqgUO4S36tzjIRZ', 'id': '5Y5TRrQiqgUO4S36tzjIRZ', 'name': 'Timbaland', 'type': 'artist', 'uri': 'spotify:artist:5Y5TRrQiqgUO4S36tzjIRZ'}, {'external_urls': {'spotify': 'https://open.spotify.com/artist/63wjoROpeh5f11Qm93UiJ1'}, 'href': 'https://api.spotify.com/v1/artists/63wjoROpeh5f11Qm93UiJ1', 'id': '63wjoROpeh5f11Qm93UiJ1', 'name': 'Keri Hilson', 'type': 'artist', 'uri': 'spotify:artist:63wjoROpeh5f11Qm93UiJ1'}, {'external_urls': {'spotify': 'https://open.spotify.com/artist/4TLCPR1sMYoNU1jA7O4uww'}, 'href': 'https://api.spotify.com/v1/artists/4TLCPR1sMYoNU1jA7O4uww', 'id': '4TLCPR1sMYoNU1jA7O4uww', 'name': 'D.O.E.', 'type': 'artist', 'uri': 'spotify:artist:4TLCPR1sMYoNU1jA7O4uww'}], 'available_markets': ['AD', 'AE', 'AR', 'AT', 'AU', 'BA', 'BD', 'BE', 'BG', 'BH', 'BO', 'BR', 'BY', 'CA', 'CH', 'CI', 'CL', 'CM', 'CO', 'CR', 'CW', 'CY', 'CZ', 'DE', 'DK', 'DO', 'DZ', 'EC', 'EE', 'EG', 'ES', 'FI', 'FJ', 'FR', 'GB', 'GN', 'GR', 'GT', 'HK', 'HN', 'HR', 'HU', 'ID', 'IE', 'IL', 'IN', 'IQ', 'IS', 'IT', 'JO', 'KH', 'KR', 'KW', 'KZ', 'LA', 'LB', 'LI', 'LK', 'LT', 'LU', 'LV', 'LY', 'MA', 'MC', 'ME', 'MK', 'MT', 'MU', 'MX', 'MY', 'NG', 'NI', 'NL', 'NO', 'NZ', 'OM', 'PA', 'PE', 'PH', 'PL', 'PT', 'PY', 'QA', 'RO', 'RS', 'RW', 'SA', 'SG', 'SI', 'SK', 'SN', 'SV', 'TH', 'TJ', 'TN', 'TR', 'TW', 'TZ', 'UA', 'US', 'VE', 'VN', 'XK', 'ZA'], 'disc_number': 1, 'duration_ms': 179120, 'explicit': False, 'external_ids': {'isrc': 'USUM70722806'}, 'external_urls': {'spotify': 'https://open.spotify.com/track/2bLqfJjuC5syrsgDsZfGmn'}, 'href': 'https://api.spotify.com/v1/tracks/2bLqfJjuC5syrsgDsZfGmn', 'id': '2bLqfJjuC5syrsgDsZfGmn', 'is_local': False, 'name': 'The Way I Are', 'popularity': 85, 'preview_url': None, 'track_number': 4, 'type': 'track', 'uri': 'spotify:track:2bLqfJjuC5syrsgDsZfGmn'}, {'album': {'album_type': 'ALBUM', 'artists': [{'external_urls': {'spotify': 'https://open.spotify.com/artist/1iyvtzGjtuQa1I5UGpzk6l'}, 'href': 'https://api.spotify.com/v1/artists/1iyvtzGjtuQa1I5UGpzk6l', 'id': '1iyvtzGjtuQa1I5UGpzk6l', 'name': 'Sir Charles Mackerras', 'type': 'artist', 'uri': 'spotify:artist:1iyvtzGjtuQa1I5UGpzk6l'}, {'external_urls': {'spotify': 'https://open.spotify.com/artist/2KuPDJp7FCpmaUy4jKcjfB'}, 'href': 'https://api.spotify.com/v1/artists/2KuPDJp7FCpmaUy4jKcjfB', 'id': '2KuPDJp7FCpmaUy4jKcjfB', 'name': 'Bournemouth Symphony Orchestra', 'type': 'artist', 'uri': 'spotify:artist:2KuPDJp7FCpmaUy4jKcjfB'}, {'external_urls': {'spotify': 'https://open.spotify.com/artist/6I6fmQU7HGrUsCm4B5Nlk3'}, 'href': 'https://api.spotify.com/v1/artists/6I6fmQU7HGrUsCm4B5Nlk3', 'id': '6I6fmQU7HGrUsCm4B5Nlk3', 'name': 'Royal Liverpool Philharmonic Orchestra', 'type': 'artist', 'uri': 'spotify:artist:6I6fmQU7HGrUsCm4B5Nlk3'}], 'available_markets': ['AR', 'AU', 'AT', 'BE', 'BO', 'BR', 'BG', 'CA', 'CL', 'CO', 'CR', 'CY', 'CZ', 'DK', 'DO', 'DE', 'EC', 'EE', 'SV', 'FI', 'FR', 'GR', 'GT', 'HN', 'HK', 'HU', 'IS', 'IE', 'IT', 'LV', 'LT', 'LU', 'MY', 'MT', 'MX', 'NL', 'NZ', 'NI', 'NO', 'PA', 'PY', 'PE', 'PH', 'PL', 'PT', 'SG', 'SK', 'ES', 'SE', 'CH', 'TW', 'TR', 'UY', 'US', 'GB', 'AD', 'LI', 'MC', 'ID', 'JP', 'TH', 'VN', 'RO', 'IL', 'ZA', 'SA', 'AE', 'BH', 'QA', 'OM', 'KW', 'EG', 'MA', 'DZ', 'TN', 'LB', 'JO', 'PS', 'IN', 'BY', 'KZ', 'MD', 'UA', 'AL', 'BA', 'HR', 'ME', 'MK', 'RS', 'SI', 'KR', 'BD', 'PK', 'LK', 'GH', 'KE', 'NG', 'TZ', 'UG', 'AG', 'AM', 'BS', 'BB', 'BZ', 'BT', 'BW', 'BF', 'CV', 'CW', 'DM', 'FJ', 'GM', 'GE', 'GD', 'GW', 'GY', 'HT', 'JM', 'KI', 'LS', 'LR', 'MW', 'MV', 'ML', 'MH', 'FM', 'NA', 'NR', 'NE', 'PW', 'PG', 'WS', 'SM', 'ST', 'SN', 'SC', 'SL', 'SB', 'KN', 'LC', 'VC', 'SR', 'TL', 'TO', 'TT', 'TV', 'VU', 'AZ', 'BN', 'BI', 'KH', 'CM', 'TD', 'KM', 'GQ', 'SZ', 'GA', 'GN', 'KG', 'LA', 'MO', 'MR', 'MN', 'NP', 'RW', 'TG', 'UZ', 'ZW', 'BJ', 'MG', 'MU', 'MZ', 'AO', 'CI', 'DJ', 'ZM', 'CD', 'CG', 'IQ', 'LY', 'TJ', 'VE', 'ET', 'XK'], 'external_urls': {'spotify': 'https://open.spotify.com/album/0O7Wn1VuRLGOxkKXxDBsoV'}, 'href': 'https://api.spotify.com/v1/albums/0O7Wn1VuRLGOxkKXxDBsoV', 'id': '0O7Wn1VuRLGOxkKXxDBsoV', 'images': [{'height': 640, 'url': 'https://i.scdn.co/image/ab67616d0000b2737910353a316a8ef3fe57c0c4', 'width': 640}, {'height': 300, 'url': 'https://i.scdn.co/image/ab67616d00001e027910353a316a8ef3fe57c0c4', 'width': 300}, {'height': 64, 'url': 'https://i.scdn.co/image/ab67616d000048517910353a316a8ef3fe57c0c4', 'width': 64}], 'name': 'Orff: Carmina Burana - Holst: The Planets', 'release_date': '1999-12-31', 'release_date_precision': 'day', 'total_tracks': 33, 'type': 'album', 'uri': 'spotify:album:0O7Wn1VuRLGOxkKXxDBsoV'}, 'artists': [{'external_urls': {'spotify': 'https://open.spotify.com/artist/4LXxsm5BF85PWnQ1dUDAze'}, 'href': 'https://api.spotify.com/v1/artists/4LXxsm5BF85PWnQ1dUDAze', 'id': '4LXxsm5BF85PWnQ1dUDAze', 'name': 'Carl Orff', 'type': 'artist', 'uri': 'spotify:artist:4LXxsm5BF85PWnQ1dUDAze'}, {'external_urls': {'spotify': 'https://open.spotify.com/artist/3OreHHlGPmeOu4QRWU8gZH'}, 'href': 'https://api.spotify.com/v1/artists/3OreHHlGPmeOu4QRWU8gZH', 'id': '3OreHHlGPmeOu4QRWU8gZH', 'name': 'Janice Watson', 'type': 'artist', 'uri': 'spotify:artist:3OreHHlGPmeOu4QRWU8gZH'}, {'external_urls': {'spotify': 'https://open.spotify.com/artist/4xxFcRBOp4jUE3tFHEEYeN'}, 'href': 'https://api.spotify.com/v1/artists/4xxFcRBOp4jUE3tFHEEYeN', 'id': '4xxFcRBOp4jUE3tFHEEYeN', 'name': 'James Bowman', 'type': 'artist', 'uri': 'spotify:artist:4xxFcRBOp4jUE3tFHEEYeN'}, {'external_urls': {'spotify': 'https://open.spotify.com/artist/2xeQveiOPcOQ2wfyAtnwNZ'}, 'href': 'https://api.spotify.com/v1/artists/2xeQveiOPcOQ2wfyAtnwNZ', 'id': '2xeQveiOPcOQ2wfyAtnwNZ', 'name': 'Donald Maxwell', 'type': 'artist', 'uri': 'spotify:artist:2xeQveiOPcOQ2wfyAtnwNZ'}, {'external_urls': {'spotify': 'https://open.spotify.com/artist/1cqgTAFV7jTXVQ3IXaYj8m'}, 'href': 'https://api.spotify.com/v1/artists/1cqgTAFV7jTXVQ3IXaYj8m', 'id': '1cqgTAFV7jTXVQ3IXaYj8m', 'name': 'Bournemouth Symphony Chorus', 'type': 'artist', 'uri': 'spotify:artist:1cqgTAFV7jTXVQ3IXaYj8m'}, {'external_urls': {'spotify': 'https://open.spotify.com/artist/1lAZyVFABDaT4XzLpUhLcO'}, 'href': 'https://api.spotify.com/v1/artists/1lAZyVFABDaT4XzLpUhLcO', 'id': '1lAZyVFABDaT4XzLpUhLcO', 'name': 'Waynflete Singers', 'type': 'artist', 'uri': 'spotify:artist:1lAZyVFABDaT4XzLpUhLcO'}, {'external_urls': {'spotify': 'https://open.spotify.com/artist/0JE9aqfHDnozXGZfDO3DwU'}, 'href': 'https://api.spotify.com/v1/artists/0JE9aqfHDnozXGZfDO3DwU', 'id': '0JE9aqfHDnozXGZfDO3DwU', 'name': 'Highcliffe Junior Choir', 'type': 'artist', 'uri': 'spotify:artist:0JE9aqfHDnozXGZfDO3DwU'}, {'external_urls': {'spotify': 'https://open.spotify.com/artist/2KuPDJp7FCpmaUy4jKcjfB'}, 'href': 'https://api.spotify.com/v1/artists/2KuPDJp7FCpmaUy4jKcjfB', 'id': '2KuPDJp7FCpmaUy4jKcjfB', 'name': 'Bournemouth Symphony Orchestra', 'type': 'artist', 'uri': 'spotify:artist:2KuPDJp7FCpmaUy4jKcjfB'}, {'external_urls': {'spotify': 'https://open.spotify.com/artist/4Qq5rJ5mqO9DIXo2OPBWG8'}, 'href': 'https://api.spotify.com/v1/artists/4Qq5rJ5mqO9DIXo2OPBWG8', 'id': '4Qq5rJ5mqO9DIXo2OPBWG8', 'name': 'David Hill', 'type': 'artist', 'uri': 'spotify:artist:4Qq5rJ5mqO9DIXo2OPBWG8'}], 'available_markets': ['AR', 'AU', 'AT', 'BE', 'BO', 'BR', 'BG', 'CA', 'CL', 'CO', 'CR', 'CY', 'CZ', 'DK', 'DO', 'DE', 'EC', 'EE', 'SV', 'FI', 'FR', 'GR', 'GT', 'HN', 'HK', 'HU', 'IS', 'IE', 'IT', 'LV', 'LT', 'LU', 'MY', 'MT', 'MX', 'NL', 'NZ', 'NI', 'NO', 'PA', 'PY', 'PE', 'PH', 'PL', 'PT', 'SG', 'SK', 'ES', 'SE', 'CH', 'TW', 'TR', 'UY', 'US', 'GB', 'AD', 'LI', 'MC', 'ID', 'JP', 'TH', 'VN', 'RO', 'IL', 'ZA', 'SA', 'AE', 'BH', 'QA', 'OM', 'KW', 'EG', 'MA', 'DZ', 'TN', 'LB', 'JO', 'PS', 'IN', 'BY', 'KZ', 'MD', 'UA', 'AL', 'BA', 'HR', 'ME', 'MK', 'RS', 'SI', 'KR', 'BD', 'PK', 'LK', 'GH', 'KE', 'NG', 'TZ', 'UG', 'AG', 'AM', 'BS', 'BB', 'BZ', 'BT', 'BW', 'BF', 'CV', 'CW', 'DM', 'FJ', 'GM', 'GE', 'GD', 'GW', 'GY', 'HT', 'JM', 'KI', 'LS', 'LR', 'MW', 'MV', 'ML', 'MH', 'FM', 'NA', 'NR', 'NE', 'PW', 'PG', 'WS', 'SM', 'ST', 'SN', 'SC', 'SL', 'SB', 'KN', 'LC', 'VC', 'SR', 'TL', 'TO', 'TT', 'TV', 'VU', 'AZ', 'BN', 'BI', 'KH', 'CM', 'TD', 'KM', 'GQ', 'SZ', 'GA', 'GN', 'KG', 'LA', 'MO', 'MR', 'MN', 'NP', 'RW', 'TG', 'UZ', 'ZW', 'BJ', 'MG', 'MU', 'MZ', 'AO', 'CI', 'DJ', 'ZM', 'CD', 'CG', 'IQ', 'LY', 'TJ', 'VE', 'ET', 'XK'], 'disc_number': 1, 'duration_ms': 156360, 'explicit': False, 'external_ids': {'isrc': 'GBAYC9400066'}, 'external_urls': {'spotify': 'https://open.spotify.com/track/4m5rO8vfR0H6V4J8sKTU2J'}, 'href': 'https://api.spotify.com/v1/tracks/4m5rO8vfR0H6V4J8sKTU2J', 'id': '4m5rO8vfR0H6V4J8sKTU2J', 'is_local': False, 'name': 'Orff: Carmina Burana, Introduction, Fortuna Imperatrix Mundi: O Fortuna', 'popularity': 33, 'preview_url': 'https://p.scdn.co/mp3-preview/6fcf70eea055e1338fecf97545bd318111af0583?cid=833e496a818d4dac926a00970ba4d725', 'track_number': 1, 'type': 'track', 'uri': 'spotify:track:4m5rO8vfR0H6V4J8sKTU2J'}, {'album': {'album_type': 'SINGLE', 'artists': [{'external_urls': {'spotify': 'https://open.spotify.com/artist/0EyZDKtc41e4A3a3v69MxD'}, 'href': 'https://api.spotify.com/v1/artists/0EyZDKtc41e4A3a3v69MxD', 'id': '0EyZDKtc41e4A3a3v69MxD', 'name': 'Muscadine Bloodline', 'type': 'artist', 'uri': 'spotify:artist:0EyZDKtc41e4A3a3v69MxD'}], 'available_markets': [], 'external_urls': {'spotify': 'https://open.spotify.com/album/3ONUwVS34kijUUtlo3U9VG'}, 'href': 'https://api.spotify.com/v1/albums/3ONUwVS34kijUUtlo3U9VG', 'id': '3ONUwVS34kijUUtlo3U9VG', 'images': [{'height': 640, 'url': 'https://i.scdn.co/image/ab67616d0000b2735be1fdb26629741e9499b09f', 'width': 640}, {'height': 300, 'url': 'https://i.scdn.co/image/ab67616d00001e025be1fdb26629741e9499b09f', 'width': 300}, {'height': 64, 'url': 'https://i.scdn.co/image/ab67616d000048515be1fdb26629741e9499b09f', 'width': 64}], 'name': 'WD-40', 'release_date': '2016-12-16', 'release_date_precision': 'day', 'total_tracks': 1, 'type': 'album', 'uri': 'spotify:album:3ONUwVS34kijUUtlo3U9VG'}, 'artists': [{'external_urls': {'spotify': 'https://open.spotify.com/artist/0EyZDKtc41e4A3a3v69MxD'}, 'href': 'https://api.spotify.com/v1/artists/0EyZDKtc41e4A3a3v69MxD', 'id': '0EyZDKtc41e4A3a3v69MxD', 'name': 'Muscadine Bloodline', 'type': 'artist', 'uri': 'spotify:artist:0EyZDKtc41e4A3a3v69MxD'}], 'available_markets': [], 'disc_number': 1, 'duration_ms': 182826, 'explicit': False, 'external_ids': {'isrc': 'TCACT1672057'}, 'external_urls': {'spotify': 'https://open.spotify.com/track/3L3HRHCi6CmKmUrAJj1sa0'}, 'href': 'https://api.spotify.com/v1/tracks/3L3HRHCi6CmKmUrAJj1sa0', 'id': '3L3HRHCi6CmKmUrAJj1sa0', 'is_local': False, 'name': 'WD-40', 'popularity': 0, 'preview_url': None, 'track_number': 1, 'type': 'track', 'uri': 'spotify:track:3L3HRHCi6CmKmUrAJj1sa0'}, {'album': {'album_type': 'SINGLE', 'artists': [{'external_urls': {'spotify': 'https://open.spotify.com/artist/59YCPI4Z5xa1TfddNB8bna'}, 'href': 'https://api.spotify.com/v1/artists/59YCPI4Z5xa1TfddNB8bna', 'id': '59YCPI4Z5xa1TfddNB8bna', 'name': 'BODÉ', 'type': 'artist', 'uri': 'spotify:artist:59YCPI4Z5xa1TfddNB8bna'}, {'external_urls': {'spotify': 'https://open.spotify.com/artist/7EHqnGuGifQoAa3UV6qtvp'}, 'href': 'https://api.spotify.com/v1/artists/7EHqnGuGifQoAa3UV6qtvp', 'id': '7EHqnGuGifQoAa3UV6qtvp', 'name': 'Billy Vena', 'type': 'artist', 'uri': 'spotify:artist:7EHqnGuGifQoAa3UV6qtvp'}], 'available_markets': ['AR', 'AU', 'AT', 'BE', 'BO', 'BR', 'BG', 'CA', 'CL', 'CO', 'CR', 'CY', 'CZ', 'DK', 'DO', 'DE', 'EC', 'EE', 'SV', 'FI', 'FR', 'GR', 'GT', 'HN', 'HK', 'HU', 'IS', 'IE', 'IT', 'LV', 'LT', 'LU', 'MY', 'MT', 'MX', 'NL', 'NZ', 'NI', 'NO', 'PA', 'PY', 'PE', 'PH', 'PL', 'PT', 'SG', 'SK', 'ES', 'SE', 'CH', 'TW', 'TR', 'UY', 'US', 'GB', 'AD', 'LI', 'MC', 'ID', 'JP', 'TH', 'VN', 'RO', 'IL', 'ZA', 'SA', 'AE', 'BH', 'QA', 'OM', 'KW', 'EG', 'MA', 'DZ', 'TN', 'LB', 'JO', 'PS', 'IN', 'BY', 'KZ', 'MD', 'UA', 'AL', 'BA', 'HR', 'ME', 'MK', 'RS', 'SI', 'KR', 'BD', 'PK', 'LK', 'GH', 'KE', 'NG', 'TZ', 'UG', 'AG', 'AM', 'BS', 'BB', 'BZ', 'BT', 'BW', 'BF', 'CV', 'CW', 'DM', 'FJ', 'GM', 'GE', 'GD', 'GW', 'GY', 'HT', 'JM', 'KI', 'LS', 'LR', 'MW', 'MV', 'ML', 'MH', 'FM', 'NA', 'NR', 'NE', 'PW', 'PG', 'WS', 'SM', 'ST', 'SN', 'SC', 'SL', 'SB', 'KN', 'LC', 'VC', 'SR', 'TL', 'TO', 'TT', 'TV', 'VU', 'AZ', 'BN', 'BI', 'KH', 'CM', 'TD', 'KM', 'GQ', 'SZ', 'GA', 'GN', 'KG', 'LA', 'MO', 'MR', 'MN', 'NP', 'RW', 'TG', 'UZ', 'ZW', 'BJ', 'MG', 'MU', 'MZ', 'AO', 'CI', 'DJ', 'ZM', 'CD', 'CG', 'IQ', 'LY', 'TJ', 'VE', 'ET', 'XK'], 'external_urls': {'spotify': 'https://open.spotify.com/album/4dYyGkezUDwqYEBYFstRCj'}, 'href': 'https://api.spotify.com/v1/albums/4dYyGkezUDwqYEBYFstRCj', 'id': '4dYyGkezUDwqYEBYFstRCj', 'images': [{'height': 640, 'url': 'https://i.scdn.co/image/ab67616d0000b273b8c8ab50d08c7f31bda0153e', 'width': 640}, {'height': 300, 'url': 'https://i.scdn.co/image/ab67616d00001e02b8c8ab50d08c7f31bda0153e', 'width': 300}, {'height': 64, 'url': 'https://i.scdn.co/image/ab67616d00004851b8c8ab50d08c7f31bda0153e', 'width': 64}], 'name': 'Wiz', 'release_date': '2020-05-01', 'release_date_precision': 'day', 'total_tracks': 1, 'type': 'album', 'uri': 'spotify:album:4dYyGkezUDwqYEBYFstRCj'}, 'artists': [{'external_urls': {'spotify': 'https://open.spotify.com/artist/59YCPI4Z5xa1TfddNB8bna'}, 'href': 'https://api.spotify.com/v1/artists/59YCPI4Z5xa1TfddNB8bna', 'id': '59YCPI4Z5xa1TfddNB8bna', 'name': 'BODÉ', 'type': 'artist', 'uri': 'spotify:artist:59YCPI4Z5xa1TfddNB8bna'}, {'external_urls': {'spotify': 'https://open.spotify.com/artist/7EHqnGuGifQoAa3UV6qtvp'}, 'href': 'https://api.spotify.com/v1/artists/7EHqnGuGifQoAa3UV6qtvp', 'id': '7EHqnGuGifQoAa3UV6qtvp', 'name': 'Billy Vena', 'type': 'artist', 'uri': 'spotify:artist:7EHqnGuGifQoAa3UV6qtvp'}], 'available_markets': ['AR', 'AU', 'AT', 'BE', 'BO', 'BR', 'BG', 'CA', 'CL', 'CO', 'CR', 'CY', 'CZ', 'DK', 'DO', 'DE', 'EC', 'EE', 'SV', 'FI', 'FR', 'GR', 'GT', 'HN', 'HK', 'HU', 'IS', 'IE', 'IT', 'LV', 'LT', 'LU', 'MY', 'MT', 'MX', 'NL', 'NZ', 'NI', 'NO', 'PA', 'PY', 'PE', 'PH', 'PL', 'PT', 'SG', 'SK', 'ES', 'SE', 'CH', 'TW', 'TR', 'UY', 'US', 'GB', 'AD', 'LI', 'MC', 'ID', 'JP', 'TH', 'VN', 'RO', 'IL', 'ZA', 'SA', 'AE', 'BH', 'QA', 'OM', 'KW', 'EG', 'MA', 'DZ', 'TN', 'LB', 'JO', 'PS', 'IN', 'BY', 'KZ', 'MD', 'UA', 'AL', 'BA', 'HR', 'ME', 'MK', 'RS', 'SI', 'KR', 'BD', 'PK', 'LK', 'GH', 'KE', 'NG', 'TZ', 'UG', 'AG', 'AM', 'BS', 'BB', 'BZ', 'BT', 'BW', 'BF', 'CV', 'CW', 'DM', 'FJ', 'GM', 'GE', 'GD', 'GW', 'GY', 'HT', 'JM', 'KI', 'LS', 'LR', 'MW', 'MV', 'ML', 'MH', 'FM', 'NA', 'NR', 'NE', 'PW', 'PG', 'WS', 'SM', 'ST', 'SN', 'SC', 'SL', 'SB', 'KN', 'LC', 'VC', 'SR', 'TL', 'TO', 'TT', 'TV', 'VU', 'AZ', 'BN', 'BI', 'KH', 'CM', 'TD', 'KM', 'GQ', 'SZ', 'GA', 'GN', 'KG', 'LA', 'MO', 'MR', 'MN', 'NP', 'RW', 'TG', 'UZ', 'ZW', 'BJ', 'MG', 'MU', 'MZ', 'AO', 'CI', 'DJ', 'ZM', 'CD', 'CG', 'IQ', 'LY', 'TJ', 'VE', 'ET', 'XK'], 'disc_number': 1, 'duration_ms': 148173, 'explicit': False, 'external_ids': {'isrc': 'FR2X42007434'}, 'external_urls': {'spotify': 'https://open.spotify.com/track/6pV8T4pI8ZirdZ2ksnCsUw'}, 'href': 'https://api.spotify.com/v1/tracks/6pV8T4pI8ZirdZ2ksnCsUw', 'id': '6pV8T4pI8ZirdZ2ksnCsUw', 'is_local': False, 'name': 'Wiz', 'popularity': 33, 'preview_url': 'https://p.scdn.co/mp3-preview/f37d70ef3e97a77645b392681d304227ec23dfad?cid=833e496a818d4dac926a00970ba4d725', 'track_number': 1, 'type': 'track', 'uri': 'spotify:track:6pV8T4pI8ZirdZ2ksnCsUw'}, {'album': {'album_type': 'SINGLE', 'artists': [{'external_urls': {'spotify': 'https://open.spotify.com/artist/4FcZfItjVIsfO9TynErl7X'}, 'href': 'https://api.spotify.com/v1/artists/4FcZfItjVIsfO9TynErl7X', 'id': '4FcZfItjVIsfO9TynErl7X', 'name': 'Jubël', 'type': 'artist', 'uri': 'spotify:artist:4FcZfItjVIsfO9TynErl7X'}, {'external_urls': {'spotify': 'https://open.spotify.com/artist/0q4NrXqJnc367PieejuROJ'}, 'href': 'https://api.spotify.com/v1/artists/0q4NrXqJnc367PieejuROJ', 'id': '0q4NrXqJnc367PieejuROJ', 'name': 'Vice', 'type': 'artist', 'uri': 'spotify:artist:0q4NrXqJnc367PieejuROJ'}], 'available_markets': ['AR', 'AU', 'AT', 'BE', 'BO', 'BR', 'BG', 'CA', 'CL', 'CO', 'CR', 'CY', 'CZ', 'DK', 'DO', 'DE', 'EC', 'EE', 'SV', 'FI', 'FR', 'GR', 'GT', 'HN', 'HK', 'HU', 'IS', 'IE', 'IT', 'LV', 'LT', 'LU', 'MY', 'MT', 'MX', 'NL', 'NZ', 'NI', 'NO', 'PA', 'PY', 'PE', 'PH', 'PL', 'PT', 'SG', 'SK', 'ES', 'SE', 'CH', 'TW', 'TR', 'UY', 'US', 'GB', 'AD', 'LI', 'MC', 'ID', 'JP', 'TH', 'VN', 'RO', 'IL', 'ZA', 'SA', 'AE', 'BH', 'QA', 'OM', 'KW', 'EG', 'MA', 'DZ', 'TN', 'LB', 'JO', 'PS', 'IN', 'BY', 'KZ', 'MD', 'UA', 'AL', 'BA', 'HR', 'ME', 'MK', 'RS', 'SI', 'KR', 'BD', 'PK', 'LK', 'GH', 'KE', 'NG', 'TZ', 'UG', 'AG', 'AM', 'BS', 'BB', 'BZ', 'BT', 'BW', 'BF', 'CV', 'CW', 'DM', 'FJ', 'GM', 'GE', 'GD', 'GW', 'GY', 'HT', 'JM', 'KI', 'LS', 'LR', 'MW', 'MV', 'ML', 'MH', 'FM', 'NA', 'NR', 'NE', 'PW', 'PG', 'WS', 'SM', 'ST', 'SN', 'SC', 'SL', 'SB', 'KN', 'LC', 'VC', 'SR', 'TL', 'TO', 'TT', 'TV', 'VU', 'AZ', 'BN', 'BI', 'KH', 'CM', 'TD', 'KM', 'GQ', 'SZ', 'GA', 'GN', 'KG', 'LA', 'MO', 'MR', 'MN', 'NP', 'RW', 'TG', 'UZ', 'ZW', 'BJ', 'MG', 'MU', 'MZ', 'AO', 'CI', 'DJ', 'ZM', 'CD', 'CG', 'IQ', 'LY', 'TJ', 'VE', 'ET', 'XK'], 'external_urls': {'spotify': 'https://open.spotify.com/album/5XryeIJIAMB7Vhy4beW6LX'}, 'href': 'https://api.spotify.com/v1/albums/5XryeIJIAMB7Vhy4beW6LX', 'id': '5XryeIJIAMB7Vhy4beW6LX', 'images': [{'height': 640, 'url': 'https://i.scdn.co/image/ab67616d0000b273ba49c1bf32e1849581725198', 'width': 640}, {'height': 300, 'url': 'https://i.scdn.co/image/ab67616d00001e02ba49c1bf32e1849581725198', 'width': 300}, {'height': 64, 'url': 'https://i.scdn.co/image/ab67616d00004851ba49c1bf32e1849581725198', 'width': 64}], 'name': 'Weekend Vibe (Vice Remix)', 'release_date': '2021-03-26', 'release_date_precision': 'day', 'total_tracks': 1, 'type': 'album', 'uri': 'spotify:album:5XryeIJIAMB7Vhy4beW6LX'}, 'artists': [{'external_urls': {'spotify': 'https://open.spotify.com/artist/4FcZfItjVIsfO9TynErl7X'}, 'href': 'https://api.spotify.com/v1/artists/4FcZfItjVIsfO9TynErl7X', 'id': '4FcZfItjVIsfO9TynErl7X', 'name': 'Jubël', 'type': 'artist', 'uri': 'spotify:artist:4FcZfItjVIsfO9TynErl7X'}, {'external_urls': {'spotify': 'https://open.spotify.com/artist/0q4NrXqJnc367PieejuROJ'}, 'href': 'https://api.spotify.com/v1/artists/0q4NrXqJnc367PieejuROJ', 'id': '0q4NrXqJnc367PieejuROJ', 'name': 'Vice', 'type': 'artist', 'uri': 'spotify:artist:0q4NrXqJnc367PieejuROJ'}], 'available_markets': ['AR', 'AU', 'AT', 'BE', 'BO', 'BR', 'BG', 'CA', 'CL', 'CO', 'CR', 'CY', 'CZ', 'DK', 'DO', 'DE', 'EC', 'EE', 'SV', 'FI', 'FR', 'GR', 'GT', 'HN', 'HK', 'HU', 'IS', 'IE', 'IT', 'LV', 'LT', 'LU', 'MY', 'MT', 'MX', 'NL', 'NZ', 'NI', 'NO', 'PA', 'PY', 'PE', 'PH', 'PL', 'PT', 'SG', 'SK', 'ES', 'SE', 'CH', 'TW', 'TR', 'UY', 'US', 'GB', 'AD', 'LI', 'MC', 'ID', 'JP', 'TH', 'VN', 'RO', 'IL', 'ZA', 'SA', 'AE', 'BH', 'QA', 'OM', 'KW', 'EG', 'MA', 'DZ', 'TN', 'LB', 'JO', 'PS', 'IN', 'BY', 'KZ', 'MD', 'UA', 'AL', 'BA', 'HR', 'ME', 'MK', 'RS', 'SI', 'KR', 'BD', 'PK', 'LK', 'GH', 'KE', 'NG', 'TZ', 'UG', 'AG', 'AM', 'BS', 'BB', 'BZ', 'BT', 'BW', 'BF', 'CV', 'CW', 'DM', 'FJ', 'GM', 'GE', 'GD', 'GW', 'GY', 'HT', 'JM', 'KI', 'LS', 'LR', 'MW', 'MV', 'ML', 'MH', 'FM', 'NA', 'NR', 'NE', 'PW', 'PG', 'WS', 'SM', 'ST', 'SN', 'SC', 'SL', 'SB', 'KN', 'LC', 'VC', 'SR', 'TL', 'TO', 'TT', 'TV', 'VU', 'AZ', 'BN', 'BI', 'KH', 'CM', 'TD', 'KM', 'GQ', 'SZ', 'GA', 'GN', 'KG', 'LA', 'MO', 'MR', 'MN', 'NP', 'RW', 'TG', 'UZ', 'ZW', 'BJ', 'MG', 'MU', 'MZ', 'AO', 'CI', 'DJ', 'ZM', 'CD', 'CG', 'IQ', 'LY', 'TJ', 'VE', 'ET', 'XK'], 'disc_number': 1, 'duration_ms': 152610, 'explicit': False, 'external_ids': {'isrc': 'SEPQA2100020'}, 'external_urls': {'spotify': 'https://open.spotify.com/track/6qejzG4wAOcpEtZZPLw4wj'}, 'href': 'https://api.spotify.com/v1/tracks/6qejzG4wAOcpEtZZPLw4wj', 'id': '6qejzG4wAOcpEtZZPLw4wj', 'is_local': False, 'name': 'Weekend Vibe - Vice Remix', 'popularity': 28, 'preview_url': 'https://p.scdn.co/mp3-preview/13556fb71268dbe19a3b244a2f381ba0ac1bfdcd?cid=833e496a818d4dac926a00970ba4d725', 'track_number': 1, 'type': 'track', 'uri': 'spotify:track:6qejzG4wAOcpEtZZPLw4wj'}, {'album': {'album_type': 'SINGLE', 'artists': [{'external_urls': {'spotify': 'https://open.spotify.com/artist/6DgP9otnZw5z6daOntINxp'}, 'href': 'https://api.spotify.com/v1/artists/6DgP9otnZw5z6daOntINxp', 'id': '6DgP9otnZw5z6daOntINxp', 'name': 'Joel Corry', 'type': 'artist', 'uri': 'spotify:artist:6DgP9otnZw5z6daOntINxp'}, {'external_urls': {'spotify': 'https://open.spotify.com/artist/5KKpBU5eC2tJDzf0wmlRp2'}, 'href': 'https://api.spotify.com/v1/artists/5KKpBU5eC2tJDzf0wmlRp2', 'id': '5KKpBU5eC2tJDzf0wmlRp2', 'name': 'RAYE', 'type': 'artist', 'uri': 'spotify:artist:5KKpBU5eC2tJDzf0wmlRp2'}, {'external_urls': {'spotify': 'https://open.spotify.com/artist/1Cs0zKBU1kc0i8ypK3B9ai'}, 'href': 'https://api.spotify.com/v1/artists/1Cs0zKBU1kc0i8ypK3B9ai', 'id': '1Cs0zKBU1kc0i8ypK3B9ai', 'name': 'David Guetta', 'type': 'artist', 'uri': 'spotify:artist:1Cs0zKBU1kc0i8ypK3B9ai'}], 'available_markets': ['AR', 'AT', 'BE', 'BO', 'BR', 'BG', 'CA', 'CL', 'CO', 'CR', 'CY', 'CZ', 'DK', 'DO', 'DE', 'EC', 'EE', 'SV', 'FI', 'FR', 'GR', 'GT', 'HN', 'HK', 'HU', 'IS', 'IE', 'IT', 'LV', 'LT', 'LU', 'MY', 'MT', 'MX', 'NL', 'NI', 'NO', 'PA', 'PY', 'PE', 'PH', 'PL', 'PT', 'SG', 'SK', 'ES', 'SE', 'CH', 'TW', 'TR', 'UY', 'US', 'GB', 'AD', 'LI', 'MC', 'ID', 'JP', 'TH', 'VN', 'RO', 'IL', 'ZA', 'SA', 'AE', 'BH', 'QA', 'OM', 'KW', 'EG', 'MA', 'DZ', 'TN', 'LB', 'JO', 'PS', 'IN', 'BY', 'KZ', 'MD', 'UA', 'AL', 'BA', 'HR', 'ME', 'MK', 'RS', 'SI', 'KR', 'BD', 'PK', 'LK', 'GH', 'KE', 'NG', 'TZ', 'UG', 'AG', 'AM', 'BS', 'BB', 'BZ', 'BT', 'BW', 'BF', 'CV', 'CW', 'DM', 'FJ', 'GM', 'GE', 'GD', 'GW', 'GY', 'HT', 'JM', 'KI', 'LS', 'LR', 'MW', 'MV', 'ML', 'MH', 'FM', 'NA', 'NR', 'NE', 'PW', 'PG', 'WS', 'SM', 'ST', 'SN', 'SC', 'SL', 'SB', 'KN', 'LC', 'VC', 'SR', 'TL', 'TO', 'TT', 'TV', 'VU', 'AZ', 'BN', 'BI', 'KH', 'CM', 'TD', 'KM', 'GQ', 'SZ', 'GA', 'GN', 'KG', 'LA', 'MO', 'MR', 'MN', 'NP', 'RW', 'TG', 'UZ', 'ZW', 'BJ', 'MG', 'MU', 'MZ', 'AO', 'CI', 'DJ', 'ZM', 'CD', 'CG', 'IQ', 'LY', 'TJ', 'VE', 'ET', 'XK'], 'external_urls': {'spotify': 'https://open.spotify.com/album/36tML2tWjDrbLW4FgrX17U'}, 'href': 'https://api.spotify.com/v1/albums/36tML2tWjDrbLW4FgrX17U', 'id': '36tML2tWjDrbLW4FgrX17U', 'images': [{'height': 640, 'url': 'https://i.scdn.co/image/ab67616d0000b273b06c09b9f72389ee7f1cbd6b', 'width': 640}, {'height': 300, 'url': 'https://i.scdn.co/image/ab67616d00001e02b06c09b9f72389ee7f1cbd6b', 'width': 300}, {'height': 64, 'url': 'https://i.scdn.co/image/ab67616d00004851b06c09b9f72389ee7f1cbd6b', 'width': 64}], 'name': 'BED', 'release_date': '2021-02-26', 'release_date_precision': 'day', 'total_tracks': 1, 'type': 'album', 'uri': 'spotify:album:36tML2tWjDrbLW4FgrX17U'}, 'artists': [{'external_urls': {'spotify': 'https://open.spotify.com/artist/6DgP9otnZw5z6daOntINxp'}, 'href': 'https://api.spotify.com/v1/artists/6DgP9otnZw5z6daOntINxp', 'id': '6DgP9otnZw5z6daOntINxp', 'name': 'Joel Corry', 'type': 'artist', 'uri': 'spotify:artist:6DgP9otnZw5z6daOntINxp'}, {'external_urls': {'spotify': 'https://open.spotify.com/artist/5KKpBU5eC2tJDzf0wmlRp2'}, 'href': 'https://api.spotify.com/v1/artists/5KKpBU5eC2tJDzf0wmlRp2', 'id': '5KKpBU5eC2tJDzf0wmlRp2', 'name': 'RAYE', 'type': 'artist', 'uri': 'spotify:artist:5KKpBU5eC2tJDzf0wmlRp2'}, {'external_urls': {'spotify': 'https://open.spotify.com/artist/1Cs0zKBU1kc0i8ypK3B9ai'}, 'href': 'https://api.spotify.com/v1/artists/1Cs0zKBU1kc0i8ypK3B9ai', 'id': '1Cs0zKBU1kc0i8ypK3B9ai', 'name': 'David Guetta', 'type': 'artist', 'uri': 'spotify:artist:1Cs0zKBU1kc0i8ypK3B9ai'}], 'available_markets': ['AR', 'AT', 'BE', 'BO', 'BR', 'BG', 'CA', 'CL', 'CO', 'CR', 'CY', 'CZ', 'DK', 'DO', 'DE', 'EC', 'EE', 'SV', 'FI', 'FR', 'GR', 'GT', 'HN', 'HK', 'HU', 'IS', 'IE', 'IT', 'LV', 'LT', 'LU', 'MY', 'MT', 'MX', 'NL', 'NI', 'NO', 'PA', 'PY', 'PE', 'PH', 'PL', 'PT', 'SG', 'SK', 'ES', 'SE', 'CH', 'TW', 'TR', 'UY', 'US', 'GB', 'AD', 'LI', 'MC', 'ID', 'JP', 'TH', 'VN', 'RO', 'IL', 'ZA', 'SA', 'AE', 'BH', 'QA', 'OM', 'KW', 'EG', 'MA', 'DZ', 'TN', 'LB', 'JO', 'PS', 'IN', 'BY', 'KZ', 'MD', 'UA', 'AL', 'BA', 'HR', 'ME', 'MK', 'RS', 'SI', 'KR', 'BD', 'PK', 'LK', 'GH', 'KE', 'NG', 'TZ', 'UG', 'AG', 'AM', 'BS', 'BB', 'BZ', 'BT', 'BW', 'BF', 'CV', 'CW', 'DM', 'FJ', 'GM', 'GE', 'GD', 'GW', 'GY', 'HT', 'JM', 'KI', 'LS', 'LR', 'MW', 'MV', 'ML', 'MH', 'FM', 'NA', 'NR', 'NE', 'PW', 'PG', 'WS', 'SM', 'ST', 'SN', 'SC', 'SL', 'SB', 'KN', 'LC', 'VC', 'SR', 'TL', 'TO', 'TT', 'TV', 'VU', 'AZ', 'BN', 'BI', 'KH', 'CM', 'TD', 'KM', 'GQ', 'SZ', 'GA', 'GN', 'KG', 'LA', 'MO', 'MR', 'MN', 'NP', 'RW', 'TG', 'UZ', 'ZW', 'BJ', 'MG', 'MU', 'MZ', 'AO', 'CI', 'DJ', 'ZM', 'CD', 'CG', 'IQ', 'LY', 'TJ', 'VE', 'ET', 'XK'], 'disc_number': 1, 'duration_ms': 178087, 'explicit': False, 'external_ids': {'isrc': 'UK4ZF2100069'}, 'external_urls': {'spotify': 'https://open.spotify.com/track/0siYMEsGrzzzlWLXK5zJfS'}, 'href': 'https://api.spotify.com/v1/tracks/0siYMEsGrzzzlWLXK5zJfS', 'id': '0siYMEsGrzzzlWLXK5zJfS', 'is_local': False, 'name': 'BED', 'popularity': 74, 'preview_url': 'https://p.scdn.co/mp3-preview/94fe8be6130e62c1cc2b792605f5a9001c9aa587?cid=833e496a818d4dac926a00970ba4d725', 'track_number': 1, 'type': 'track', 'uri': 'spotify:track:0siYMEsGrzzzlWLXK5zJfS'}, {'album': {'album_type': 'ALBUM', 'artists': [{'external_urls': {'spotify': 'https://open.spotify.com/artist/4YLtscXsxbVgi031ovDDdh'}, 'href': 'https://api.spotify.com/v1/artists/4YLtscXsxbVgi031ovDDdh', 'id': '4YLtscXsxbVgi031ovDDdh', 'name': 'Chris Stapleton', 'type': 'artist', 'uri': 'spotify:artist:4YLtscXsxbVgi031ovDDdh'}], 'available_markets': ['AR', 'AU', 'AT', 'BE', 'BO', 'BR', 'BG', 'CA', 'CL', 'CO', 'CR', 'CY', 'CZ', 'DK', 'DO', 'DE', 'EC', 'EE', 'SV', 'FI', 'FR', 'GR', 'GT', 'HN', 'HK', 'HU', 'IS', 'IE', 'IT', 'LV', 'LT', 'LU', 'MY', 'MT', 'MX', 'NL', 'NZ', 'NI', 'NO', 'PA', 'PY', 'PE', 'PH', 'PL', 'PT', 'SG', 'SK', 'ES', 'SE', 'CH', 'TW', 'TR', 'UY', 'US', 'GB', 'AD', 'LI', 'MC', 'ID', 'JP', 'TH', 'VN', 'RO', 'IL', 'ZA', 'SA', 'AE', 'BH', 'QA', 'OM', 'KW', 'EG', 'MA', 'DZ', 'TN', 'LB', 'JO', 'PS', 'IN', 'BY', 'KZ', 'MD', 'UA', 'AL', 'BA', 'HR', 'ME', 'MK', 'RS', 'SI', 'KR', 'BD', 'PK', 'LK', 'GH', 'KE', 'NG', 'TZ', 'UG', 'AG', 'AM', 'BS', 'BB', 'BZ', 'BT', 'BW', 'BF', 'CV', 'CW', 'DM', 'FJ', 'GM', 'GE', 'GD', 'GW', 'GY', 'HT', 'JM', 'KI', 'LS', 'LR', 'MW', 'MV', 'ML', 'MH', 'FM', 'NA', 'NR', 'NE', 'PW', 'PG', 'WS', 'SM', 'ST', 'SN', 'SC', 'SL', 'SB', 'KN', 'LC', 'VC', 'SR', 'TL', 'TO', 'TT', 'TV', 'VU', 'AZ', 'BN', 'BI', 'KH', 'CM', 'TD', 'KM', 'GQ', 'SZ', 'GA', 'GN', 'KG', 'LA', 'MO', 'MR', 'MN', 'NP', 'RW', 'TG', 'UZ', 'ZW', 'BJ', 'MG', 'MU', 'MZ', 'AO', 'CI', 'DJ', 'ZM', 'CD', 'CG', 'IQ', 'LY', 'TJ', 'VE', 'ET', 'XK'], 'external_urls': {'spotify': 'https://open.spotify.com/album/7lxHnls3yQNl8B9bILmHj7'}, 'href': 'https://api.spotify.com/v1/albums/7lxHnls3yQNl8B9bILmHj7', 'id': '7lxHnls3yQNl8B9bILmHj7', 'images': [{'height': 640, 'url': 'https://i.scdn.co/image/ab67616d0000b273540fc1d083eac5bcff8dad21', 'width': 640}, {'height': 300, 'url': 'https://i.scdn.co/image/ab67616d00001e02540fc1d083eac5bcff8dad21', 'width': 300}, {'height': 64, 'url': 'https://i.scdn.co/image/ab67616d00004851540fc1d083eac5bcff8dad21', 'width': 64}], 'name': 'Traveller', 'release_date': '2015-05-04', 'release_date_precision': 'day', 'total_tracks': 14, 'type': 'album', 'uri': 'spotify:album:7lxHnls3yQNl8B9bILmHj7'}, 'artists': [{'external_urls': {'spotify': 'https://open.spotify.com/artist/4YLtscXsxbVgi031ovDDdh'}, 'href': 'https://api.spotify.com/v1/artists/4YLtscXsxbVgi031ovDDdh', 'id': '4YLtscXsxbVgi031ovDDdh', 'name': 'Chris Stapleton', 'type': 'artist', 'uri': 'spotify:artist:4YLtscXsxbVgi031ovDDdh'}], 'available_markets': ['AR', 'AU', 'AT', 'BE', 'BO', 'BR', 'BG', 'CA', 'CL', 'CO', 'CR', 'CY', 'CZ', 'DK', 'DO', 'DE', 'EC', 'EE', 'SV', 'FI', 'FR', 'GR', 'GT', 'HN', 'HK', 'HU', 'IS', 'IE', 'IT', 'LV', 'LT', 'LU', 'MY', 'MT', 'MX', 'NL', 'NZ', 'NI', 'NO', 'PA', 'PY', 'PE', 'PH', 'PL', 'PT', 'SG', 'SK', 'ES', 'SE', 'CH', 'TW', 'TR', 'UY', 'US', 'GB', 'AD', 'LI', 'MC', 'ID', 'JP', 'TH', 'VN', 'RO', 'IL', 'ZA', 'SA', 'AE', 'BH', 'QA', 'OM', 'KW', 'EG', 'MA', 'DZ', 'TN', 'LB', 'JO', 'PS', 'IN', 'BY', 'KZ', 'MD', 'UA', 'AL', 'BA', 'HR', 'ME', 'MK', 'RS', 'SI', 'KR', 'BD', 'PK', 'LK', 'GH', 'KE', 'NG', 'TZ', 'UG', 'AG', 'AM', 'BS', 'BB', 'BZ', 'BT', 'BW', 'BF', 'CV', 'CW', 'DM', 'FJ', 'GM', 'GE', 'GD', 'GW', 'GY', 'HT', 'JM', 'KI', 'LS', 'LR', 'MW', 'MV', 'ML', 'MH', 'FM', 'NA', 'NR', 'NE', 'PW', 'PG', 'WS', 'SM', 'ST', 'SN', 'SC', 'SL', 'SB', 'KN', 'LC', 'VC', 'SR', 'TL', 'TO', 'TT', 'TV', 'VU', 'AZ', 'BN', 'BI', 'KH', 'CM', 'TD', 'KM', 'GQ', 'SZ', 'GA', 'GN', 'KG', 'LA', 'MO', 'MR', 'MN', 'NP', 'RW', 'TG', 'UZ', 'ZW', 'BJ', 'MG', 'MU', 'MZ', 'AO', 'CI', 'DJ', 'ZM', 'CD', 'CG', 'IQ', 'LY', 'TJ', 'VE', 'ET', 'XK'], 'disc_number': 1, 'duration_ms': 253200, 'explicit': False, 'external_ids': {'isrc': 'USUM71418084'}, 'external_urls': {'spotify': 'https://open.spotify.com/track/5jROdl6MhcmP3O7h2sVgtw'}, 'href': 'https://api.spotify.com/v1/tracks/5jROdl6MhcmP3O7h2sVgtw', 'id': '5jROdl6MhcmP3O7h2sVgtw', 'is_local': False, 'name': 'Parachute', 'popularity': 77, 'preview_url': None, 'track_number': 4, 'type': 'track', 'uri': 'spotify:track:5jROdl6MhcmP3O7h2sVgtw'}, {'album': {'album_type': 'ALBUM', 'artists': [{'external_urls': {'spotify': 'https://open.spotify.com/artist/5vngPClqofybhPERIqQMYd'}, 'href': 'https://api.spotify.com/v1/artists/5vngPClqofybhPERIqQMYd', 'id': '5vngPClqofybhPERIqQMYd', 'name': 'George Strait', 'type': 'artist', 'uri': 'spotify:artist:5vngPClqofybhPERIqQMYd'}], 'available_markets': ['AR', 'AU', 'AT', 'BE', 'BO', 'BR', 'BG', 'CA', 'CL', 'CO', 'CR', 'CY', 'CZ', 'DK', 'DO', 'DE', 'EC', 'EE', 'SV', 'FI', 'FR', 'GR', 'GT', 'HN', 'HK', 'HU', 'IS', 'IE', 'IT', 'LV', 'LT', 'LU', 'MY', 'MT', 'MX', 'NL', 'NZ', 'NI', 'NO', 'PA', 'PY', 'PE', 'PH', 'PL', 'PT', 'SG', 'SK', 'ES', 'SE', 'CH', 'TW', 'TR', 'UY', 'US', 'GB', 'AD', 'LI', 'MC', 'ID', 'JP', 'TH', 'VN', 'RO', 'IL', 'ZA', 'SA', 'AE', 'BH', 'QA', 'OM', 'KW', 'EG', 'MA', 'DZ', 'TN', 'LB', 'JO', 'PS', 'IN', 'BY', 'KZ', 'MD', 'UA', 'AL', 'BA', 'HR', 'ME', 'MK', 'RS', 'SI', 'KR', 'BD', 'PK', 'LK', 'GH', 'KE', 'NG', 'TZ', 'UG', 'AG', 'AM', 'BS', 'BB', 'BZ', 'BT', 'BW', 'BF', 'CV', 'CW', 'DM', 'FJ', 'GM', 'GE', 'GD', 'GW', 'GY', 'HT', 'JM', 'KI', 'LS', 'LR', 'MW', 'MV', 'ML', 'MH', 'FM', 'NA', 'NR', 'NE', 'PW', 'PG', 'WS', 'SM', 'ST', 'SN', 'SC', 'SL', 'SB', 'KN', 'LC', 'VC', 'SR', 'TL', 'TO', 'TT', 'TV', 'VU', 'AZ', 'BN', 'BI', 'KH', 'CM', 'TD', 'KM', 'GQ', 'SZ', 'GA', 'GN', 'KG', 'LA', 'MO', 'MR', 'MN', 'NP', 'RW', 'TG', 'UZ', 'ZW', 'BJ', 'MG', 'MU', 'MZ', 'AO', 'CI', 'DJ', 'ZM', 'CD', 'CG', 'IQ', 'LY', 'TJ', 'VE', 'ET', 'XK'], 'external_urls': {'spotify': 'https://open.spotify.com/album/2Kudx2lMsMx3svYdb2xe2F'}, 'href': 'https://api.spotify.com/v1/albums/2Kudx2lMsMx3svYdb2xe2F', 'id': '2Kudx2lMsMx3svYdb2xe2F', 'images': [{'height': 640, 'url': 'https://i.scdn.co/image/ab67616d0000b27309b72b61970ed83b5d304e89', 'width': 640}, {'height': 300, 'url': 'https://i.scdn.co/image/ab67616d00001e0209b72b61970ed83b5d304e89', 'width': 300}, {'height': 64, 'url': 'https://i.scdn.co/image/ab67616d0000485109b72b61970ed83b5d304e89', 'width': 64}], 'name': 'Always Never The Same', 'release_date': '1999-01-01', 'release_date_precision': 'day', 'total_tracks': 10, 'type': 'album', 'uri': 'spotify:album:2Kudx2lMsMx3svYdb2xe2F'}, 'artists': [{'external_urls': {'spotify': 'https://open.spotify.com/artist/5vngPClqofybhPERIqQMYd'}, 'href': 'https://api.spotify.com/v1/artists/5vngPClqofybhPERIqQMYd', 'id': '5vngPClqofybhPERIqQMYd', 'name': 'George Strait', 'type': 'artist', 'uri': 'spotify:artist:5vngPClqofybhPERIqQMYd'}], 'available_markets': ['AR', 'AU', 'AT', 'BE', 'BO', 'BR', 'BG', 'CA', 'CL', 'CO', 'CR', 'CY', 'CZ', 'DK', 'DO', 'DE', 'EC', 'EE', 'SV', 'FI', 'FR', 'GR', 'GT', 'HN', 'HK', 'HU', 'IS', 'IE', 'IT', 'LV', 'LT', 'LU', 'MY', 'MT', 'MX', 'NL', 'NZ', 'NI', 'NO', 'PA', 'PY', 'PE', 'PH', 'PL', 'PT', 'SG', 'SK', 'ES', 'SE', 'CH', 'TW', 'TR', 'UY', 'US', 'GB', 'AD', 'LI', 'MC', 'ID', 'JP', 'TH', 'VN', 'RO', 'IL', 'ZA', 'SA', 'AE', 'BH', 'QA', 'OM', 'KW', 'EG', 'MA', 'DZ', 'TN', 'LB', 'JO', 'PS', 'IN', 'BY', 'KZ', 'MD', 'UA', 'AL', 'BA', 'HR', 'ME', 'MK', 'RS', 'SI', 'KR', 'BD', 'PK', 'LK', 'GH', 'KE', 'NG', 'TZ', 'UG', 'AG', 'AM', 'BS', 'BB', 'BZ', 'BT', 'BW', 'BF', 'CV', 'CW', 'DM', 'FJ', 'GM', 'GE', 'GD', 'GW', 'GY', 'HT', 'JM', 'KI', 'LS', 'LR', 'MW', 'MV', 'ML', 'MH', 'FM', 'NA', 'NR', 'NE', 'PW', 'PG', 'WS', 'SM', 'ST', 'SN', 'SC', 'SL', 'SB', 'KN', 'LC', 'VC', 'SR', 'TL', 'TO', 'TT', 'TV', 'VU', 'AZ', 'BN', 'BI', 'KH', 'CM', 'TD', 'KM', 'GQ', 'SZ', 'GA', 'GN', 'KG', 'LA', 'MO', 'MR', 'MN', 'NP', 'RW', 'TG', 'UZ', 'ZW', 'BJ', 'MG', 'MU', 'MZ', 'AO', 'CI', 'DJ', 'ZM', 'CD', 'CG', 'IQ', 'LY', 'TJ', 'VE', 'ET', 'XK'], 'disc_number': 1, 'duration_ms': 219600, 'explicit': False, 'external_ids': {'isrc': 'USMC19801464'}, 'external_urls': {'spotify': 'https://open.spotify.com/track/1TanmIWbaUj5NVwJ3k4XPd'}, 'href': 'https://api.spotify.com/v1/tracks/1TanmIWbaUj5NVwJ3k4XPd', 'id': '1TanmIWbaUj5NVwJ3k4XPd', 'is_local': False, 'name': 'Write This Down', 'popularity': 71, 'preview_url': None, 'track_number': 2, 'type': 'track', 'uri': 'spotify:track:1TanmIWbaUj5NVwJ3k4XPd'}, {'album': {'album_type': 'ALBUM', 'artists': [{'external_urls': {'spotify': 'https://open.spotify.com/artist/718COspgdWOnwOFpJHRZHS'}, 'href': 'https://api.spotify.com/v1/artists/718COspgdWOnwOFpJHRZHS', 'id': '718COspgdWOnwOFpJHRZHS', 'name': 'Luke Combs', 'type': 'artist', 'uri': 'spotify:artist:718COspgdWOnwOFpJHRZHS'}], 'available_markets': ['AR', 'AU', 'AT', 'BE', 'BO', 'BR', 'BG', 'CA', 'CL', 'CO', 'CR', 'CY', 'CZ', 'DK', 'DO', 'DE', 'EC', 'EE', 'SV', 'FI', 'FR', 'GR', 'GT', 'HN', 'HK', 'HU', 'IS', 'IE', 'IT', 'LV', 'LT', 'LU', 'MY', 'MT', 'MX', 'NL', 'NZ', 'NI', 'NO', 'PA', 'PY', 'PE', 'PH', 'PL', 'PT', 'SG', 'SK', 'ES', 'SE', 'CH', 'TW', 'TR', 'UY', 'US', 'GB', 'AD', 'LI', 'MC', 'ID', 'JP', 'TH', 'VN', 'RO', 'IL', 'ZA', 'SA', 'AE', 'BH', 'QA', 'OM', 'KW', 'EG', 'MA', 'DZ', 'TN', 'LB', 'JO', 'PS', 'IN', 'BY', 'KZ', 'MD', 'UA', 'AL', 'BA', 'HR', 'ME', 'MK', 'RS', 'SI', 'KR', 'BD', 'PK', 'LK', 'GH', 'KE', 'NG', 'TZ', 'UG', 'AG', 'AM', 'BS', 'BB', 'BZ', 'BT', 'BW', 'BF', 'CV', 'CW', 'DM', 'FJ', 'GM', 'GE', 'GD', 'GW', 'GY', 'HT', 'JM', 'KI', 'LS', 'LR', 'MW', 'MV', 'ML', 'MH', 'FM', 'NA', 'NR', 'NE', 'PW', 'PG', 'WS', 'SM', 'ST', 'SN', 'SC', 'SL', 'SB', 'KN', 'LC', 'VC', 'SR', 'TL', 'TO', 'TT', 'TV', 'VU', 'AZ', 'BN', 'BI', 'KH', 'CM', 'TD', 'KM', 'GQ', 'SZ', 'GA', 'GN', 'KG', 'LA', 'MO', 'MR', 'MN', 'NP', 'RW', 'TG', 'UZ', 'ZW', 'BJ', 'MG', 'MU', 'MZ', 'AO', 'CI', 'DJ', 'ZM', 'CD', 'CG', 'IQ', 'LY', 'TJ', 'VE', 'ET', 'XK'], 'external_urls': {'spotify': 'https://open.spotify.com/album/1lhNch5NkOONvFhRPh8qaj'}, 'href': 'https://api.spotify.com/v1/albums/1lhNch5NkOONvFhRPh8qaj', 'id': '1lhNch5NkOONvFhRPh8qaj', 'images': [{'height': 640, 'url': 'https://i.scdn.co/image/ab67616d0000b273b7578013decfa174e30dc298', 'width': 640}, {'height': 300, 'url': 'https://i.scdn.co/image/ab67616d00001e02b7578013decfa174e30dc298', 'width': 300}, {'height': 64, 'url': 'https://i.scdn.co/image/ab67616d00004851b7578013decfa174e30dc298', 'width': 64}], 'name': \"This One's for You\", 'release_date': '2017-06-02', 'release_date_precision': 'day', 'total_tracks': 12, 'type': 'album', 'uri': 'spotify:album:1lhNch5NkOONvFhRPh8qaj'}, 'artists': [{'external_urls': {'spotify': 'https://open.spotify.com/artist/718COspgdWOnwOFpJHRZHS'}, 'href': 'https://api.spotify.com/v1/artists/718COspgdWOnwOFpJHRZHS', 'id': '718COspgdWOnwOFpJHRZHS', 'name': 'Luke Combs', 'type': 'artist', 'uri': 'spotify:artist:718COspgdWOnwOFpJHRZHS'}], 'available_markets': ['AR', 'AU', 'AT', 'BE', 'BO', 'BR', 'BG', 'CA', 'CL', 'CO', 'CR', 'CY', 'CZ', 'DK', 'DO', 'DE', 'EC', 'EE', 'SV', 'FI', 'FR', 'GR', 'GT', 'HN', 'HK', 'HU', 'IS', 'IE', 'IT', 'LV', 'LT', 'LU', 'MY', 'MT', 'MX', 'NL', 'NZ', 'NI', 'NO', 'PA', 'PY', 'PE', 'PH', 'PL', 'PT', 'SG', 'SK', 'ES', 'SE', 'CH', 'TW', 'TR', 'UY', 'US', 'GB', 'AD', 'LI', 'MC', 'ID', 'JP', 'TH', 'VN', 'RO', 'IL', 'ZA', 'SA', 'AE', 'BH', 'QA', 'OM', 'KW', 'EG', 'MA', 'DZ', 'TN', 'LB', 'JO', 'PS', 'IN', 'BY', 'KZ', 'MD', 'UA', 'AL', 'BA', 'HR', 'ME', 'MK', 'RS', 'SI', 'KR', 'BD', 'PK', 'LK', 'GH', 'KE', 'NG', 'TZ', 'UG', 'AG', 'AM', 'BS', 'BB', 'BZ', 'BT', 'BW', 'BF', 'CV', 'CW', 'DM', 'FJ', 'GM', 'GE', 'GD', 'GW', 'GY', 'HT', 'JM', 'KI', 'LS', 'LR', 'MW', 'MV', 'ML', 'MH', 'FM', 'NA', 'NR', 'NE', 'PW', 'PG', 'WS', 'SM', 'ST', 'SN', 'SC', 'SL', 'SB', 'KN', 'LC', 'VC', 'SR', 'TL', 'TO', 'TT', 'TV', 'VU', 'AZ', 'BN', 'BI', 'KH', 'CM', 'TD', 'KM', 'GQ', 'SZ', 'GA', 'GN', 'KG', 'LA', 'MO', 'MR', 'MN', 'NP', 'RW', 'TG', 'UZ', 'ZW', 'BJ', 'MG', 'MU', 'MZ', 'AO', 'CI', 'DJ', 'ZM', 'CD', 'CG', 'IQ', 'LY', 'TJ', 'VE', 'ET', 'XK'], 'disc_number': 1, 'duration_ms': 240760, 'explicit': False, 'external_ids': {'isrc': 'QZ4751600015'}, 'external_urls': {'spotify': 'https://open.spotify.com/track/1mMLMZYXkMueg65jRRWG1l'}, 'href': 'https://api.spotify.com/v1/tracks/1mMLMZYXkMueg65jRRWG1l', 'id': '1mMLMZYXkMueg65jRRWG1l', 'is_local': False, 'name': 'When It Rains It Pours', 'popularity': 84, 'preview_url': 'https://p.scdn.co/mp3-preview/034066bcc59420c96bc025ed2f204ee2cb9c975d?cid=833e496a818d4dac926a00970ba4d725', 'track_number': 8, 'type': 'track', 'uri': 'spotify:track:1mMLMZYXkMueg65jRRWG1l'}, {'album': {'album_type': 'ALBUM', 'artists': [{'external_urls': {'spotify': 'https://open.spotify.com/artist/0Y5TzYEqoxjuVbz7K6jsR2'}, 'href': 'https://api.spotify.com/v1/artists/0Y5TzYEqoxjuVbz7K6jsR2', 'id': '0Y5TzYEqoxjuVbz7K6jsR2', 'name': 'The Prague Brass Soloists', 'type': 'artist', 'uri': 'spotify:artist:0Y5TzYEqoxjuVbz7K6jsR2'}], 'available_markets': [], 'external_urls': {'spotify': 'https://open.spotify.com/album/2NYbYHknU13GJttyMIa6B4'}, 'href': 'https://api.spotify.com/v1/albums/2NYbYHknU13GJttyMIa6B4', 'id': '2NYbYHknU13GJttyMIa6B4', 'images': [{'height': 640, 'url': 'https://i.scdn.co/image/ab67616d0000b273f1a7143da54b8f708cb4c3cb', 'width': 640}, {'height': 300, 'url': 'https://i.scdn.co/image/ab67616d00001e02f1a7143da54b8f708cb4c3cb', 'width': 300}, {'height': 64, 'url': 'https://i.scdn.co/image/ab67616d00004851f1a7143da54b8f708cb4c3cb', 'width': 64}], 'name': 'Purcell / Simpson / Adson / Holborne / Brade / Clarke: Old English Brass Music', 'release_date': '1989-01-01', 'release_date_precision': 'day', 'total_tracks': 43, 'type': 'album', 'uri': 'spotify:album:2NYbYHknU13GJttyMIa6B4'}, 'artists': [{'external_urls': {'spotify': 'https://open.spotify.com/artist/3tMLo1k3iUo82coMLWXzxq'}, 'href': 'https://api.spotify.com/v1/artists/3tMLo1k3iUo82coMLWXzxq', 'id': '3tMLo1k3iUo82coMLWXzxq', 'name': 'Henry Purcell', 'type': 'artist', 'uri': 'spotify:artist:3tMLo1k3iUo82coMLWXzxq'}, {'external_urls': {'spotify': 'https://open.spotify.com/artist/0Y5TzYEqoxjuVbz7K6jsR2'}, 'href': 'https://api.spotify.com/v1/artists/0Y5TzYEqoxjuVbz7K6jsR2', 'id': '0Y5TzYEqoxjuVbz7K6jsR2', 'name': 'The Prague Brass Soloists', 'type': 'artist', 'uri': 'spotify:artist:0Y5TzYEqoxjuVbz7K6jsR2'}], 'available_markets': [], 'disc_number': 1, 'duration_ms': 79800, 'explicit': False, 'external_ids': {'isrc': 'CZA160301720'}, 'external_urls': {'spotify': 'https://open.spotify.com/track/5h4bVElGkP6CryCHL8WMd8'}, 'href': 'https://api.spotify.com/v1/tracks/5h4bVElGkP6CryCHL8WMd8', 'id': '5h4bVElGkP6CryCHL8WMd8', 'is_local': False, 'name': 'Trumpet Tune', 'popularity': 0, 'preview_url': None, 'track_number': 1, 'type': 'track', 'uri': 'spotify:track:5h4bVElGkP6CryCHL8WMd8'}, {'album': {'album_type': 'SINGLE', 'artists': [{'external_urls': {'spotify': 'https://open.spotify.com/artist/0bdfiayQAKewqEvaU6rXCv'}, 'href': 'https://api.spotify.com/v1/artists/0bdfiayQAKewqEvaU6rXCv', 'id': '0bdfiayQAKewqEvaU6rXCv', 'name': 'MØ', 'type': 'artist', 'uri': 'spotify:artist:0bdfiayQAKewqEvaU6rXCv'}], 'available_markets': ['AR', 'AU', 'AT', 'BE', 'BO', 'BR', 'BG', 'CA', 'CL', 'CO', 'CR', 'CY', 'CZ', 'DK', 'DO', 'DE', 'EC', 'EE', 'SV', 'FI', 'FR', 'GR', 'GT', 'HN', 'HK', 'HU', 'IS', 'IE', 'IT', 'LV', 'LT', 'LU', 'MY', 'MT', 'MX', 'NL', 'NZ', 'NI', 'NO', 'PA', 'PY', 'PE', 'PH', 'PL', 'PT', 'SG', 'SK', 'ES', 'SE', 'CH', 'TW', 'TR', 'UY', 'US', 'GB', 'AD', 'LI', 'MC', 'ID', 'JP', 'TH', 'VN', 'RO', 'IL', 'ZA', 'SA', 'AE', 'BH', 'QA', 'OM', 'KW', 'EG', 'MA', 'DZ', 'TN', 'LB', 'JO', 'PS', 'IN', 'BY', 'KZ', 'MD', 'UA', 'AL', 'BA', 'HR', 'ME', 'MK', 'RS', 'SI', 'KR', 'BD', 'PK', 'LK', 'GH', 'KE', 'NG', 'TZ', 'UG', 'AG', 'AM', 'BS', 'BB', 'BZ', 'BT', 'BW', 'BF', 'CV', 'CW', 'DM', 'FJ', 'GM', 'GE', 'GD', 'GW', 'GY', 'HT', 'JM', 'KI', 'LS', 'LR', 'MW', 'MV', 'ML', 'MH', 'FM', 'NA', 'NR', 'NE', 'PW', 'PG', 'WS', 'SM', 'ST', 'SN', 'SC', 'SL', 'SB', 'KN', 'LC', 'VC', 'SR', 'TL', 'TO', 'TT', 'TV', 'VU', 'AZ', 'BN', 'BI', 'KH', 'CM', 'TD', 'KM', 'GQ', 'SZ', 'GA', 'GN', 'KG', 'LA', 'MO', 'MR', 'MN', 'NP', 'RW', 'TG', 'UZ', 'ZW', 'BJ', 'MG', 'MU', 'MZ', 'AO', 'CI', 'DJ', 'ZM', 'CD', 'CG', 'IQ', 'LY', 'TJ', 'VE', 'ET', 'XK'], 'external_urls': {'spotify': 'https://open.spotify.com/album/0kgy48FPwyVepPIaiO2w7G'}, 'href': 'https://api.spotify.com/v1/albums/0kgy48FPwyVepPIaiO2w7G', 'id': '0kgy48FPwyVepPIaiO2w7G', 'images': [{'height': 640, 'url': 'https://i.scdn.co/image/ab67616d0000b273bd58d7394f4103d9810c8edf', 'width': 640}, {'height': 300, 'url': 'https://i.scdn.co/image/ab67616d00001e02bd58d7394f4103d9810c8edf', 'width': 300}, {'height': 64, 'url': 'https://i.scdn.co/image/ab67616d00004851bd58d7394f4103d9810c8edf', 'width': 64}], 'name': 'Nights With You', 'release_date': '2017-04-21', 'release_date_precision': 'day', 'total_tracks': 1, 'type': 'album', 'uri': 'spotify:album:0kgy48FPwyVepPIaiO2w7G'}, 'artists': [{'external_urls': {'spotify': 'https://open.spotify.com/artist/0bdfiayQAKewqEvaU6rXCv'}, 'href': 'https://api.spotify.com/v1/artists/0bdfiayQAKewqEvaU6rXCv', 'id': '0bdfiayQAKewqEvaU6rXCv', 'name': 'MØ', 'type': 'artist', 'uri': 'spotify:artist:0bdfiayQAKewqEvaU6rXCv'}], 'available_markets': ['AR', 'AU', 'AT', 'BE', 'BO', 'BR', 'BG', 'CA', 'CL', 'CO', 'CR', 'CY', 'CZ', 'DK', 'DO', 'DE', 'EC', 'EE', 'SV', 'FI', 'FR', 'GR', 'GT', 'HN', 'HK', 'HU', 'IS', 'IE', 'IT', 'LV', 'LT', 'LU', 'MY', 'MT', 'MX', 'NL', 'NZ', 'NI', 'NO', 'PA', 'PY', 'PE', 'PH', 'PL', 'PT', 'SG', 'SK', 'ES', 'SE', 'CH', 'TW', 'TR', 'UY', 'US', 'GB', 'AD', 'LI', 'MC', 'ID', 'JP', 'TH', 'VN', 'RO', 'IL', 'ZA', 'SA', 'AE', 'BH', 'QA', 'OM', 'KW', 'EG', 'MA', 'DZ', 'TN', 'LB', 'JO', 'PS', 'IN', 'BY', 'KZ', 'MD', 'UA', 'AL', 'BA', 'HR', 'ME', 'MK', 'RS', 'SI', 'KR', 'BD', 'PK', 'LK', 'GH', 'KE', 'NG', 'TZ', 'UG', 'AG', 'AM', 'BS', 'BB', 'BZ', 'BT', 'BW', 'BF', 'CV', 'CW', 'DM', 'FJ', 'GM', 'GE', 'GD', 'GW', 'GY', 'HT', 'JM', 'KI', 'LS', 'LR', 'MW', 'MV', 'ML', 'MH', 'FM', 'NA', 'NR', 'NE', 'PW', 'PG', 'WS', 'SM', 'ST', 'SN', 'SC', 'SL', 'SB', 'KN', 'LC', 'VC', 'SR', 'TL', 'TO', 'TT', 'TV', 'VU', 'AZ', 'BN', 'BI', 'KH', 'CM', 'TD', 'KM', 'GQ', 'SZ', 'GA', 'GN', 'KG', 'LA', 'MO', 'MR', 'MN', 'NP', 'RW', 'TG', 'UZ', 'ZW', 'BJ', 'MG', 'MU', 'MZ', 'AO', 'CI', 'DJ', 'ZM', 'CD', 'CG', 'IQ', 'LY', 'TJ', 'VE', 'ET', 'XK'], 'disc_number': 1, 'duration_ms': 197494, 'explicit': False, 'external_ids': {'isrc': 'GBARL1700537'}, 'external_urls': {'spotify': 'https://open.spotify.com/track/5q5gzmbBS5yQzos2BvVr1t'}, 'href': 'https://api.spotify.com/v1/tracks/5q5gzmbBS5yQzos2BvVr1t', 'id': '5q5gzmbBS5yQzos2BvVr1t', 'is_local': False, 'name': 'Nights With You', 'popularity': 56, 'preview_url': 'https://p.scdn.co/mp3-preview/8303bf028dd94f974cad3e4bd8f7ed2047239a08?cid=833e496a818d4dac926a00970ba4d725', 'track_number': 1, 'type': 'track', 'uri': 'spotify:track:5q5gzmbBS5yQzos2BvVr1t'}, {'album': {'album_type': 'ALBUM', 'artists': [{'external_urls': {'spotify': 'https://open.spotify.com/artist/61lyPtntblHJvA7FMMhi7E'}, 'href': 'https://api.spotify.com/v1/artists/61lyPtntblHJvA7FMMhi7E', 'id': '61lyPtntblHJvA7FMMhi7E', 'name': 'Duke Dumont', 'type': 'artist', 'uri': 'spotify:artist:61lyPtntblHJvA7FMMhi7E'}], 'available_markets': ['AR', 'AU', 'AT', 'BE', 'BO', 'BR', 'BG', 'CA', 'CL', 'CO', 'CR', 'CY', 'CZ', 'DK', 'DO', 'DE', 'EC', 'EE', 'SV', 'FI', 'FR', 'GR', 'GT', 'HN', 'HK', 'HU', 'IS', 'IE', 'IT', 'LV', 'LT', 'LU', 'MY', 'MT', 'MX', 'NL', 'NZ', 'NI', 'NO', 'PA', 'PY', 'PE', 'PH', 'PL', 'PT', 'SG', 'SK', 'ES', 'SE', 'CH', 'TW', 'TR', 'UY', 'US', 'GB', 'AD', 'LI', 'MC', 'ID', 'JP', 'TH', 'VN', 'RO', 'IL', 'ZA', 'SA', 'AE', 'BH', 'QA', 'OM', 'KW', 'EG', 'MA', 'DZ', 'TN', 'LB', 'JO', 'PS', 'IN', 'BY', 'KZ', 'MD', 'UA', 'AL', 'BA', 'HR', 'ME', 'MK', 'RS', 'SI', 'KR', 'BD', 'PK', 'LK', 'GH', 'KE', 'NG', 'TZ', 'UG', 'AG', 'AM', 'BS', 'BB', 'BZ', 'BT', 'BW', 'BF', 'CV', 'CW', 'DM', 'FJ', 'GM', 'GE', 'GD', 'GW', 'GY', 'HT', 'JM', 'KI', 'LS', 'LR', 'MW', 'MV', 'ML', 'MH', 'FM', 'NA', 'NR', 'NE', 'PW', 'PG', 'WS', 'SM', 'ST', 'SN', 'SC', 'SL', 'SB', 'KN', 'LC', 'VC', 'SR', 'TL', 'TO', 'TT', 'TV', 'VU', 'AZ', 'BN', 'BI', 'KH', 'CM', 'TD', 'KM', 'GQ', 'SZ', 'GA', 'GN', 'KG', 'LA', 'MO', 'MR', 'MN', 'NP', 'RW', 'TG', 'UZ', 'ZW', 'BJ', 'MG', 'MU', 'MZ', 'AO', 'CI', 'DJ', 'ZM', 'CD', 'CG', 'IQ', 'LY', 'TJ', 'VE', 'ET', 'XK'], 'external_urls': {'spotify': 'https://open.spotify.com/album/6AlOjPdNpM41lMVSjjsrUM'}, 'href': 'https://api.spotify.com/v1/albums/6AlOjPdNpM41lMVSjjsrUM', 'id': '6AlOjPdNpM41lMVSjjsrUM', 'images': [{'height': 640, 'url': 'https://i.scdn.co/image/ab67616d0000b2733ce84b2c05a3bac3d48c8217', 'width': 640}, {'height': 300, 'url': 'https://i.scdn.co/image/ab67616d00001e023ce84b2c05a3bac3d48c8217', 'width': 300}, {'height': 64, 'url': 'https://i.scdn.co/image/ab67616d000048513ce84b2c05a3bac3d48c8217', 'width': 64}], 'name': 'Duality', 'release_date': '2020-04-17', 'release_date_precision': 'day', 'total_tracks': 10, 'type': 'album', 'uri': 'spotify:album:6AlOjPdNpM41lMVSjjsrUM'}, 'artists': [{'external_urls': {'spotify': 'https://open.spotify.com/artist/61lyPtntblHJvA7FMMhi7E'}, 'href': 'https://api.spotify.com/v1/artists/61lyPtntblHJvA7FMMhi7E', 'id': '61lyPtntblHJvA7FMMhi7E', 'name': 'Duke Dumont', 'type': 'artist', 'uri': 'spotify:artist:61lyPtntblHJvA7FMMhi7E'}], 'available_markets': ['AR', 'AU', 'AT', 'BE', 'BO', 'BR', 'BG', 'CA', 'CL', 'CO', 'CR', 'CY', 'CZ', 'DK', 'DO', 'DE', 'EC', 'EE', 'SV', 'FI', 'FR', 'GR', 'GT', 'HN', 'HK', 'HU', 'IS', 'IE', 'IT', 'LV', 'LT', 'LU', 'MY', 'MT', 'MX', 'NL', 'NZ', 'NI', 'NO', 'PA', 'PY', 'PE', 'PH', 'PL', 'PT', 'SG', 'SK', 'ES', 'SE', 'CH', 'TW', 'TR', 'UY', 'US', 'GB', 'AD', 'LI', 'MC', 'ID', 'JP', 'TH', 'VN', 'RO', 'IL', 'ZA', 'SA', 'AE', 'BH', 'QA', 'OM', 'KW', 'EG', 'MA', 'DZ', 'TN', 'LB', 'JO', 'PS', 'IN', 'BY', 'KZ', 'MD', 'UA', 'AL', 'BA', 'HR', 'ME', 'MK', 'RS', 'SI', 'KR', 'BD', 'PK', 'LK', 'GH', 'KE', 'NG', 'TZ', 'UG', 'AG', 'AM', 'BS', 'BB', 'BZ', 'BT', 'BW', 'BF', 'CV', 'CW', 'DM', 'FJ', 'GM', 'GE', 'GD', 'GW', 'GY', 'HT', 'JM', 'KI', 'LS', 'LR', 'MW', 'MV', 'ML', 'MH', 'FM', 'NA', 'NR', 'NE', 'PW', 'PG', 'WS', 'SM', 'ST', 'SN', 'SC', 'SL', 'SB', 'KN', 'LC', 'VC', 'SR', 'TL', 'TO', 'TT', 'TV', 'VU', 'AZ', 'BN', 'BI', 'KH', 'CM', 'TD', 'KM', 'GQ', 'SZ', 'GA', 'GN', 'KG', 'LA', 'MO', 'MR', 'MN', 'NP', 'RW', 'TG', 'UZ', 'ZW', 'BJ', 'MG', 'MU', 'MZ', 'AO', 'CI', 'DJ', 'ZM', 'CD', 'CG', 'IQ', 'LY', 'TJ', 'VE', 'ET', 'XK'], 'disc_number': 1, 'duration_ms': 206320, 'explicit': False, 'external_ids': {'isrc': 'GBUM71504503'}, 'external_urls': {'spotify': 'https://open.spotify.com/track/4b93D55xv3YCH5mT4p6HPn'}, 'href': 'https://api.spotify.com/v1/tracks/4b93D55xv3YCH5mT4p6HPn', 'id': '4b93D55xv3YCH5mT4p6HPn', 'is_local': False, 'name': 'Ocean Drive', 'popularity': 74, 'preview_url': None, 'track_number': 6, 'type': 'track', 'uri': 'spotify:track:4b93D55xv3YCH5mT4p6HPn'}, {'album': {'album_type': 'SINGLE', 'artists': [{'external_urls': {'spotify': 'https://open.spotify.com/artist/4zxvC7CRGvggq9EWXOpwAo'}, 'href': 'https://api.spotify.com/v1/artists/4zxvC7CRGvggq9EWXOpwAo', 'id': '4zxvC7CRGvggq9EWXOpwAo', 'name': 'Kiesza', 'type': 'artist', 'uri': 'spotify:artist:4zxvC7CRGvggq9EWXOpwAo'}], 'available_markets': ['AR', 'AU', 'AT', 'BE', 'BO', 'BR', 'BG', 'CA', 'CL', 'CO', 'CR', 'CY', 'CZ', 'DK', 'DO', 'DE', 'EC', 'EE', 'SV', 'FI', 'FR', 'GR', 'GT', 'HN', 'HK', 'HU', 'IS', 'IE', 'IT', 'LV', 'LT', 'LU', 'MY', 'MT', 'MX', 'NL', 'NZ', 'NI', 'NO', 'PA', 'PY', 'PE', 'PH', 'PL', 'PT', 'SG', 'SK', 'ES', 'SE', 'CH', 'TW', 'TR', 'UY', 'US', 'GB', 'AD', 'LI', 'MC', 'ID', 'JP', 'TH', 'VN', 'RO', 'IL', 'ZA', 'SA', 'AE', 'BH', 'QA', 'OM', 'KW', 'EG', 'MA', 'DZ', 'TN', 'LB', 'JO', 'PS', 'IN', 'BY', 'KZ', 'MD', 'UA', 'AL', 'BA', 'HR', 'ME', 'MK', 'RS', 'SI', 'KR', 'BD', 'PK', 'LK', 'GH', 'KE', 'NG', 'TZ', 'UG', 'AG', 'AM', 'BS', 'BB', 'BZ', 'BT', 'BW', 'BF', 'CV', 'CW', 'DM', 'FJ', 'GM', 'GE', 'GD', 'GW', 'GY', 'HT', 'JM', 'KI', 'LS', 'LR', 'MW', 'MV', 'ML', 'MH', 'FM', 'NA', 'NR', 'NE', 'PW', 'PG', 'WS', 'SM', 'ST', 'SN', 'SC', 'SL', 'SB', 'KN', 'LC', 'VC', 'SR', 'TL', 'TO', 'TT', 'TV', 'VU', 'AZ', 'BN', 'BI', 'KH', 'CM', 'TD', 'KM', 'GQ', 'SZ', 'GA', 'GN', 'KG', 'LA', 'MO', 'MR', 'MN', 'NP', 'RW', 'TG', 'UZ', 'ZW', 'BJ', 'MG', 'MU', 'MZ', 'AO', 'CI', 'DJ', 'ZM', 'CD', 'CG', 'IQ', 'LY', 'TJ', 'VE', 'XK'], 'external_urls': {'spotify': 'https://open.spotify.com/album/0XEBbyFdm1Co29OrVMBJj6'}, 'href': 'https://api.spotify.com/v1/albums/0XEBbyFdm1Co29OrVMBJj6', 'id': '0XEBbyFdm1Co29OrVMBJj6', 'images': [{'height': 640, 'url': 'https://i.scdn.co/image/ab67616d0000b273bf1fa1ef7c99ae2c6bc33c44', 'width': 640}, {'height': 300, 'url': 'https://i.scdn.co/image/ab67616d00001e02bf1fa1ef7c99ae2c6bc33c44', 'width': 300}, {'height': 64, 'url': 'https://i.scdn.co/image/ab67616d00004851bf1fa1ef7c99ae2c6bc33c44', 'width': 64}], 'name': 'Giant In My Heart (Blood Diamonds Remix)', 'release_date': '2014-08-08', 'release_date_precision': 'day', 'total_tracks': 1, 'type': 'album', 'uri': 'spotify:album:0XEBbyFdm1Co29OrVMBJj6'}, 'artists': [{'external_urls': {'spotify': 'https://open.spotify.com/artist/4zxvC7CRGvggq9EWXOpwAo'}, 'href': 'https://api.spotify.com/v1/artists/4zxvC7CRGvggq9EWXOpwAo', 'id': '4zxvC7CRGvggq9EWXOpwAo', 'name': 'Kiesza', 'type': 'artist', 'uri': 'spotify:artist:4zxvC7CRGvggq9EWXOpwAo'}, {'external_urls': {'spotify': 'https://open.spotify.com/artist/4yuvRDaF5kWkFLq6q1Fev4'}, 'href': 'https://api.spotify.com/v1/artists/4yuvRDaF5kWkFLq6q1Fev4', 'id': '4yuvRDaF5kWkFLq6q1Fev4', 'name': 'Blood Diamonds', 'type': 'artist', 'uri': 'spotify:artist:4yuvRDaF5kWkFLq6q1Fev4'}], 'available_markets': ['AR', 'AU', 'AT', 'BE', 'BO', 'BR', 'BG', 'CA', 'CL', 'CO', 'CR', 'CY', 'CZ', 'DK', 'DO', 'DE', 'EC', 'EE', 'SV', 'FI', 'FR', 'GR', 'GT', 'HN', 'HK', 'HU', 'IS', 'IE', 'IT', 'LV', 'LT', 'LU', 'MY', 'MT', 'MX', 'NL', 'NZ', 'NI', 'NO', 'PA', 'PY', 'PE', 'PH', 'PL', 'PT', 'SG', 'SK', 'ES', 'SE', 'CH', 'TW', 'TR', 'UY', 'US', 'GB', 'AD', 'LI', 'MC', 'ID', 'JP', 'TH', 'VN', 'RO', 'IL', 'ZA', 'SA', 'AE', 'BH', 'QA', 'OM', 'KW', 'EG', 'MA', 'DZ', 'TN', 'LB', 'JO', 'PS', 'IN', 'BY', 'KZ', 'MD', 'UA', 'AL', 'BA', 'HR', 'ME', 'MK', 'RS', 'SI', 'KR', 'BD', 'PK', 'LK', 'GH', 'KE', 'NG', 'TZ', 'UG', 'AG', 'AM', 'BS', 'BB', 'BZ', 'BT', 'BW', 'BF', 'CV', 'CW', 'DM', 'FJ', 'GM', 'GE', 'GD', 'GW', 'GY', 'HT', 'JM', 'KI', 'LS', 'LR', 'MW', 'MV', 'ML', 'MH', 'FM', 'NA', 'NR', 'NE', 'PW', 'PG', 'WS', 'SM', 'ST', 'SN', 'SC', 'SL', 'SB', 'KN', 'LC', 'VC', 'SR', 'TL', 'TO', 'TT', 'TV', 'VU', 'AZ', 'BN', 'BI', 'KH', 'CM', 'TD', 'KM', 'GQ', 'SZ', 'GA', 'GN', 'KG', 'LA', 'MO', 'MR', 'MN', 'NP', 'RW', 'TG', 'UZ', 'ZW', 'BJ', 'MG', 'MU', 'MZ', 'AO', 'CI', 'DJ', 'ZM', 'CD', 'CG', 'IQ', 'LY', 'TJ', 'VE', 'XK'], 'disc_number': 1, 'duration_ms': 320253, 'explicit': False, 'external_ids': {'isrc': 'USUM71411441'}, 'external_urls': {'spotify': 'https://open.spotify.com/track/3xbQRquOtv3Y8TKY0lBMCE'}, 'href': 'https://api.spotify.com/v1/tracks/3xbQRquOtv3Y8TKY0lBMCE', 'id': '3xbQRquOtv3Y8TKY0lBMCE', 'is_local': False, 'name': 'Giant In My Heart - Blood Diamonds Remix', 'popularity': 6, 'preview_url': None, 'track_number': 1, 'type': 'track', 'uri': 'spotify:track:3xbQRquOtv3Y8TKY0lBMCE'}, {'album': {'album_type': 'ALBUM', 'artists': [{'external_urls': {'spotify': 'https://open.spotify.com/artist/5vBSrE1xujD2FXYRarbAXc'}, 'href': 'https://api.spotify.com/v1/artists/5vBSrE1xujD2FXYRarbAXc', 'id': '5vBSrE1xujD2FXYRarbAXc', 'name': 'Years & Years', 'type': 'artist', 'uri': 'spotify:artist:5vBSrE1xujD2FXYRarbAXc'}], 'available_markets': ['CA', 'MX', 'US'], 'external_urls': {'spotify': 'https://open.spotify.com/album/09mWpzpUOSjjvK2iNqEIYn'}, 'href': 'https://api.spotify.com/v1/albums/09mWpzpUOSjjvK2iNqEIYn', 'id': '09mWpzpUOSjjvK2iNqEIYn', 'images': [{'height': 640, 'url': 'https://i.scdn.co/image/ab67616d0000b2731b540c6520c468dfc0171a60', 'width': 640}, {'height': 300, 'url': 'https://i.scdn.co/image/ab67616d00001e021b540c6520c468dfc0171a60', 'width': 300}, {'height': 64, 'url': 'https://i.scdn.co/image/ab67616d000048511b540c6520c468dfc0171a60', 'width': 64}], 'name': 'Communion (Deluxe)', 'release_date': '2015-06-22', 'release_date_precision': 'day', 'total_tracks': 18, 'type': 'album', 'uri': 'spotify:album:09mWpzpUOSjjvK2iNqEIYn'}, 'artists': [{'external_urls': {'spotify': 'https://open.spotify.com/artist/5vBSrE1xujD2FXYRarbAXc'}, 'href': 'https://api.spotify.com/v1/artists/5vBSrE1xujD2FXYRarbAXc', 'id': '5vBSrE1xujD2FXYRarbAXc', 'name': 'Years & Years', 'type': 'artist', 'uri': 'spotify:artist:5vBSrE1xujD2FXYRarbAXc'}, {'external_urls': {'spotify': 'https://open.spotify.com/artist/4NHQUGzhtTLFvgF5SZesLK'}, 'href': 'https://api.spotify.com/v1/artists/4NHQUGzhtTLFvgF5SZesLK', 'id': '4NHQUGzhtTLFvgF5SZesLK', 'name': 'Tove Lo', 'type': 'artist', 'uri': 'spotify:artist:4NHQUGzhtTLFvgF5SZesLK'}], 'available_markets': ['CA', 'MX', 'US'], 'disc_number': 1, 'duration_ms': 203204, 'explicit': False, 'external_ids': {'isrc': 'GBUM71600961'}, 'external_urls': {'spotify': 'https://open.spotify.com/track/4ZH03VC3uJk7uKk7CwsBqH'}, 'href': 'https://api.spotify.com/v1/tracks/4ZH03VC3uJk7uKk7CwsBqH', 'id': '4ZH03VC3uJk7uKk7CwsBqH', 'is_local': False, 'name': 'Desire', 'popularity': 52, 'preview_url': None, 'track_number': 18, 'type': 'track', 'uri': 'spotify:track:4ZH03VC3uJk7uKk7CwsBqH'}], 'seeds': [{'initialPoolSize': 500, 'afterFilteringSize': 313, 'afterRelinkingSize': 313, 'id': '4NHQUGzhtTLFvgF5SZesLK', 'type': 'ARTIST', 'href': 'https://api.spotify.com/v1/artists/4NHQUGzhtTLFvgF5SZesLK'}, {'initialPoolSize': 500, 'afterFilteringSize': 313, 'afterRelinkingSize': 313, 'id': '0c6xIDDpzE81m2q797ordA', 'type': 'TRACK', 'href': 'https://api.spotify.com/v1/tracks/0c6xIDDpzE81m2q797ordA'}, {'initialPoolSize': 517, 'afterFilteringSize': 313, 'afterRelinkingSize': 313, 'id': 'classical', 'type': 'GENRE', 'href': None}, {'initialPoolSize': 999, 'afterFilteringSize': 313, 'afterRelinkingSize': 313, 'id': 'country', 'type': 'GENRE', 'href': None}]}\n"
          ]
        }
      ]
    },
    {
      "cell_type": "code",
      "source": [],
      "metadata": {
        "id": "LrBRmIb7bOA2"
      },
      "execution_count": null,
      "outputs": []
    },
    {
      "cell_type": "code",
      "source": [],
      "metadata": {
        "id": "BYhn8p9LbHYS"
      },
      "execution_count": null,
      "outputs": []
    },
    {
      "cell_type": "code",
      "source": [],
      "metadata": {
        "id": "i9l3moZ_a5eG"
      },
      "execution_count": null,
      "outputs": []
    },
    {
      "cell_type": "code",
      "source": [],
      "metadata": {
        "id": "GJCVhPvVZOnU"
      },
      "execution_count": null,
      "outputs": []
    }
  ]
}